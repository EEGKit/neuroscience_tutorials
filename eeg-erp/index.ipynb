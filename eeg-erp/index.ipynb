{
 "cells": [
  {
   "cell_type": "markdown",
   "metadata": {},
   "source": [
    "# Introduction to EEG-ERP analysis\n",
    "\n",
    "My name is [Marijn van Vliet](https://users.aalto.fi/~vanvlm1), and I'll be your guide through this hands-on exercise. \n",
    "\n",
    "The website you are looking at right now is an [interactive Python environment](https://jupyter.org).\n",
    "Through this interface, your laptop is currently talking to some server in the cloud.\n",
    "The server holds the MEG data I've prepared for you and will do the actual computational work, sending the results back to your browser.\n",
    "\n",
    "The way we talk with the server is through Python code.\n",
    "That's right, you will do some programming!\n",
    "I'll try to guide you through everything.\n",
    "Our objective will be to perform a simple Event-Related Potential (ERP) analysis of some EEG data.\n",
    "\n",
    "Let's not waste any more time and get started! Jump in by clicking on an image below:\n",
    "\n",
    "<table>\n",
    "<tr>\n",
    "    <td><a href=\"beginner.ipynb\"><img src=\"images/charmander.png\" width=\"150\"></a></td>\n",
    "    <td><a href=\"adept.ipynb\"><img src=\"images/charmeleon.png\" width=\"150\"></a></td>\n",
    "    <td><a href=\"expert.ipynb\"><img src=\"images/charizard.png\" width=\"150\"></a></td>\n",
    "</tr>\n",
    "<tr>\n",
    "    <td style=\"font-size: 18pt; text-align: center\"><a href=\"beginner.ipynb\">Introduction to programming</a></td>\n",
    "    <td style=\"font-size: 18pt; text-align: center\"><a href=\"adept.ipynb\">Data preprocessing</a></td>\n",
    "    <td style=\"font-size: 18pt; text-align: center\"><a href=\"expert.ipynb\">Computing the ERP</a></td>\n",
    "</tr>\n",
    "<tr>\n",
    "    <td style=\"text-align: left\">We will take our first steps into the magical world of programming, working towards <b>loading and visualizing</b> some EEG data.</td>\n",
    "    <td style=\"text-align: left\">Our goal will be to get some more familiarity with the Python programming language and to perform <b>frequency filtering</b> and then cut up the EEG data into <b>epochs</b>.</td>\n",
    "        <td style=\"text-align: left\">Our  goal will be to compute and visualize <b>ERPs</b> and deduce the playing card that the voluteer picked at the beginning of the experiment.</td>\n",
    "</tr>\n",
    "</table>"
   ]
  }
 ],
 "metadata": {
  "kernelspec": {
   "display_name": "Python 3",
   "language": "python",
   "name": "python3"
  },
  "language_info": {
   "codemirror_mode": {
    "name": "ipython",
    "version": 3
   },
   "file_extension": ".py",
   "mimetype": "text/x-python",
   "name": "python",
   "nbconvert_exporter": "python",
   "pygments_lexer": "ipython3",
   "version": "3.8.5"
  }
 },
 "nbformat": 4,
 "nbformat_minor": 2
}
