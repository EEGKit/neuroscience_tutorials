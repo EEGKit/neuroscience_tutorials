{
 "cells": [
  {
   "cell_type": "markdown",
   "metadata": {},
   "source": [
    "<img src=\"images/charizard.png\" alt=\"Expert\" width=\"200\">\n",
    "\n",
    "# Computing the ERP\n",
    "\n",
    "Welcome to the final level!\n",
    "\n",
    "In this level, we will construct event related potentials (ERPs) and use them to figure out which playing card the volunteer was thinking about. The cell below contains the code we have written so far. Execute it to perform the analysis all the way to cutting epochs."
   ]
  },
  {
   "cell_type": "code",
   "execution_count": null,
   "metadata": {},
   "outputs": [],
   "source": [
    "%matplotlib notebook\n",
    "\n",
    "from mne.io import read_raw_bdf\n",
    "from mne import find_events, Epochs\n",
    "\n",
    "raw = read_raw_bdf('data/magic-trick-raw.bdf', preload=True)\n",
    "raw.filter(0.5, 20)\n",
    "\n",
    "events = find_events(raw)\n",
    "event_id = {\n",
    "    'Ace of spades': 1,\n",
    "    'Jack of clubs': 2,\n",
    "    'Queen of hearts': 3,\n",
    "    'King of diamonds': 4,\n",
    "    '10 of spades': 5,\n",
    "    '3 of clubs': 6,\n",
    "    '10 of hearts': 7,\n",
    "    '3 of diamonds': 8,\n",
    "    'King of spades': 9,\n",
    "}\n",
    "epochs = Epochs(raw, events, event_id, tmin=-0.2, tmax=0.8)"
   ]
  },
  {
   "cell_type": "markdown",
   "metadata": {},
   "source": [
    "## Selecting epochs\n",
    "\n",
    "Throughout this exercise, we have created many variables: `raw`, `events`, `event_id`, and `epochs`.\n",
    "We have also learned that variables are like little machines of their own.\n",
    "Let's take a look at even more things they can do!\n",
    "\n",
    "Take for example our `event_id` dictionary.\n",
    "We can look things up in it.\n",
    "You do this using square brackets `[ ]`. (Python uses many different kinds of brackets!)\n",
    "For example, to look up the event code for the laying card `'Ace of spades'`, you would write:\n",
    "\n",
    "```python\n",
    "event_id['Ace of spades']\n",
    "```\n",
    "\n",
    "We can string together the \"lookup\" functionality and the visualization functionality, like this:\n",
    "\n",
    "```python\n",
    "fig = epochs['Ace of spaces'].plot()\n",
    "```\n",
    "\n",
    "Go ahead and try it: visualize the epochs belonging to the different paying cards.\n",
    "If you need more code cells, you can use the `Insert` menu on the top of the page."
   ]
  },
  {
   "cell_type": "code",
   "execution_count": null,
   "metadata": {},
   "outputs": [],
   "source": []
  },
  {
   "cell_type": "markdown",
   "metadata": {},
   "source": [
    "## Visualizing the event-related potential\n",
    "\n",
    "At this point, we have applied a frequency filter to the data and cut epochs: snippets of data that are likely contain signals that are related to the processing of the stimuli.\n",
    "However, there are still so many overlapping signals that it's difficult to see anything.\n",
    "\n",
    "During the lecture, you have heard about the \"event-related potential\" (ERP).\n",
    "By averaging all the epochs corresponding to a stimulus, signals that are consistently present every time a stimulus was presented will remain, while all other signals will more or less cancel out.\n",
    "\n",
    "The `Epochs` object provides a method named [`average`](https://www.martinos.org/mne/stable/generated/mne.Epochs.html#mne.Epochs.average) to compute, you guessed it, the average of all the epochs.\n",
    "This method produces an a\n",
    "Like most objects, it has a [`plot`](https://www.martinos.org/mne/stable/generated/mne.Evoked.html#mne.Evoked.plot) method of its own to visualize it.\n",
    "For example, here's how to compute the ERP using all of the epochs:\n",
    "\n",
    "```python\n",
    "erp = epochs.average()\n",
    "```\n",
    "\n",
    "Try it below: create the ERP using all epochs. Then, use the `plot` method of the new variable containing the ERP to visualize it. Store the result in a variable (e.g. `fig`) or the figure will show up twice."
   ]
  },
  {
   "cell_type": "code",
   "execution_count": null,
   "metadata": {},
   "outputs": [],
   "source": []
  },
  {
   "cell_type": "markdown",
   "metadata": {},
   "source": [
    "## Making a better visualization\n",
    "\n",
    "In the visualization you just made, the EEG signal at each sensor is drawn on top of the others.\n",
    "(This is called a \"butterfly\" plot.)\n",
    "These visualizations are great to determine when things are happening.\n",
    "Around 0.1 seconds after a playing card was shown, we get a burst of activity (the P100).\n",
    "\n",
    "But let's make a nicer figure, where each EEG sensor gets its own graph.\n",
    "For extra niceness, lets also position the graphs to reflect the positions of the sensors.\n",
    "\n",
    "The first order of business is to obtain the positions of the sensors.\n",
    "Each sensor has a name, and you can see them by displaying the `epochs.ch_names` variable (yes, objects can not only have methods, they can also have variables). Execute the cell below and have a look at the names:"
   ]
  },
  {
   "cell_type": "code",
   "execution_count": null,
   "metadata": {},
   "outputs": [],
   "source": [
    "print(epochs.ch_names)"
   ]
  },
  {
   "cell_type": "markdown",
   "metadata": {},
   "source": [
    "As we have already seen, the \"Status\" channel does not contain the signal of an EEG electrode, but a special STIM signal.\n",
    "Disregarding this channel, all the remaining channels contain the signals of 8 EEG electrodes.\n",
    "The names of the electrodes follow a standardized naming scheme, called the [10-05 system](https://www.sciencedirect.com/science/article/pii/S1388245700005277).\n",
    "Knowing this, we can infer the positions of the electrodes from their names by using the [`epochs.set_montage()`](https://mne.tools/stable/generated/mne.Epochs.html?#mne.Epochs.set_montage) method.\n",
    "\n",
    "So go ahead and use the `epochs.set_montage()` method in the cell below, keeping these two things in mind:\n",
    " - The method needs as a parameter the naming scheme of the electrodes, which in our case is `'standard_1005'`.\n",
    " - The method will work directly on the `epochs` variable, no need to assign the result to anything."
   ]
  },
  {
   "cell_type": "code",
   "execution_count": null,
   "metadata": {},
   "outputs": [],
   "source": []
  },
  {
   "cell_type": "markdown",
   "metadata": {},
   "source": [
    "If you did it correctly, the code in the cell below will show us the inferred positions for the electrodes:"
   ]
  },
  {
   "cell_type": "code",
   "execution_count": null,
   "metadata": {},
   "outputs": [],
   "source": [
    "epochs.plot_sensors()"
   ]
  },
  {
   "cell_type": "markdown",
   "metadata": {},
   "source": [
    "With the electrode positions figured out, we can now make use of the [`plot_evoked_topo`](https://mne.tools/stable/generated/mne.viz.plot_evoked_topo.html) function. It lives in the `mne.viz` module. In the cell below, use this function to visualize the ERP and get a good look at the signal recorded at each sensor.\n",
    "\n",
    "Keep the following in mind:\n",
    " - Before you can use the [`plot_evoked_topo`](https://mne.tools/stable/generated/mne.viz.plot_evoked_topo.html) function, you must import it.\n",
    " - The [`plot_evoked_topo`](https://mne.tools/stable/generated/mne.viz.plot_evoked_topo.html) function lives in the `mne.viz` module, you can import it from there.\n",
    " - Take a look at the [documentation of the function](https://mne.tools/stable/generated/mne.viz.plot_evoked_topo.html) to figure out how to use it. Note that while there are many possible parameters, only one parameter is required. You can leave all optional parameters alone.\n",
    " - You can use the [`epochs.average()`](https://www.martinos.org/mne/stable/generated/mne.Epochs.html#mne.Epochs.average) method to create an [`Evoked`](https://www.martinos.org/mne/stable/generated/mne.Evoked.html) object that represents the event-related potential (called the \"evoked response\" in the documentation)."
   ]
  },
  {
   "cell_type": "code",
   "execution_count": null,
   "metadata": {},
   "outputs": [],
   "source": []
  },
  {
   "cell_type": "markdown",
   "metadata": {},
   "source": [
    "## Whas *this* your card?\n",
    "\n",
    "We are very close now to figuring out which playing card the volunteer was thinking about. What is left to do is to create the ERP for each playing card separately and then plotting them on top of each other so we can see which ERP has a peak that jumps out to us.\n",
    "\n",
    "Remember that we could select the epochs belonging to a particular card with `epochs['Ace of spades']`. You can combine this with the `average()` method like so:\n",
    "\n",
    "```python\n",
    "erp_ace_of_spades = epochs['Ace of spades'].average()\n",
    "```\n",
    "\n",
    "Go ahead and compute the ERP for each of the nine playing cards. Their names are:\n",
    "\n",
    "```\n",
    "    'Ace of spades'\n",
    "    'Jack of clubs'\n",
    "    'Queen of hearts'\n",
    "    '10 of spades'\n",
    "    '3 of clubs'\n",
    "    '10 of hearts'\n",
    "    '3 of diamonds'\n",
    "    'King of spades'\n",
    "```"
   ]
  },
  {
   "cell_type": "code",
   "execution_count": null,
   "metadata": {},
   "outputs": [],
   "source": [
    "erp1 = "
   ]
  },
  {
   "cell_type": "code",
   "execution_count": null,
   "metadata": {},
   "outputs": [],
   "source": [
    "erp2 = "
   ]
  },
  {
   "cell_type": "code",
   "execution_count": null,
   "metadata": {},
   "outputs": [],
   "source": [
    "erp3 = "
   ]
  },
  {
   "cell_type": "code",
   "execution_count": null,
   "metadata": {},
   "outputs": [],
   "source": [
    "erp4 = "
   ]
  },
  {
   "cell_type": "code",
   "execution_count": null,
   "metadata": {},
   "outputs": [],
   "source": [
    "erp5 = "
   ]
  },
  {
   "cell_type": "code",
   "execution_count": null,
   "metadata": {},
   "outputs": [],
   "source": [
    "erp6 = "
   ]
  },
  {
   "cell_type": "code",
   "execution_count": null,
   "metadata": {},
   "outputs": [],
   "source": [
    "erp7 = "
   ]
  },
  {
   "cell_type": "code",
   "execution_count": null,
   "metadata": {},
   "outputs": [],
   "source": [
    "erp8 = "
   ]
  },
  {
   "cell_type": "code",
   "execution_count": null,
   "metadata": {},
   "outputs": [],
   "source": [
    "erp9 = "
   ]
  },
  {
   "cell_type": "markdown",
   "metadata": {},
   "source": [
    "Nine variables containing nine ERPs are a bit unwieldy to type out every time. Let me make things a little bit more manageable and make a list variable. If you execute the cell below, a new variable is created (named `erps`) that is a list that contains the nine `erp#` variables we created above."
   ]
  },
  {
   "cell_type": "code",
   "execution_count": null,
   "metadata": {},
   "outputs": [],
   "source": [
    "erps = [erp1, erp2, erp3, erp4, erp5, erp6, erp7, erp8, erp9]"
   ]
  },
  {
   "cell_type": "markdown",
   "metadata": {},
   "source": [
    "This list makes it possible for us to pass all of the ERPs to the [`plot_evoked_topo`](https://mne.tools/stable/generated/mne.viz.plot_evoked_topo.html) function at once! Try it below. Call the [`plot_evoked_topo`](https://mne.tools/stable/generated/mne.viz.plot_evoked_topo.html) like you did before, but now pass the `erps` list as the parameter."
   ]
  },
  {
   "cell_type": "code",
   "execution_count": null,
   "metadata": {},
   "outputs": [],
   "source": []
  },
  {
   "cell_type": "markdown",
   "metadata": {},
   "source": [
    "Take a close look at the figure you've just created. It should contain all nine ERPs on top of each other. Each in a different color. With a helpful figure legend to tell you which color corresponds to which playing card.\n",
    "\n",
    "Is there an ERP that is different from the others?\n",
    "\n",
    "Can you tell which playing card the volunteer was thinking about?"
   ]
  },
  {
   "cell_type": "markdown",
   "metadata": {},
   "source": [
    "<p style=\"font-size: 20pt; text-align:center; font-weight: bold\">The End</p>\n",
    "<div style=\"width: 610px; margin: auto; text-align: center\">\n",
    "<img src=\"images/charmander.png\" alt=\"Expert\" width=\"200\" style=\"display: inline\">\n",
    "<img src=\"images/charmeleon.png\" alt=\"Expert\" width=\"200\" style=\"display: inline\">\n",
    "<img src=\"images/charizard.png\" alt=\"Expert\" width=\"200\" style=\"display: inline\">\n",
    "Congratulations! You have completed all levels.\n",
    "</div>\n",
    "\n",
    "\n",
    "## Where to go from here?\n",
    "\n",
    "To learn more about analyzing EEG data with MNE-Python, there are some excellent tutorial papers:\n",
    "\n",
    "[**A Reproducible MEG/EEG Group Study With the MNE Software: Recommendations, Quality Assessments, and Good Practices**](https://www.frontiersin.org/articles/10.3389/fnins.2018.00530/full)  \n",
    "Mainak Jas , Eric Larson , Denis A. Engemann , Jaakko Leppäkangas, Samu Taulu , Matti Hämäläinen and Alexandre Gramfort\n",
    "\n",
    "Mainak Jas also has a wonderful set of Jupyter notebooks:  \n",
    "https://jasmainak.github.io/mne-workshop-brown\n",
    "\n",
    "And of course there is the extensive documentation of MNE-Python itself, including many tutorials and even more quick examples:  \n",
    "https://mne.tools/stable/documentation.html\n",
    "\n",
    "Finally, when you are getting more comfortable with doing analysis, and want to know how to start organizing you code, check out this paper:\n",
    "\n",
    "[**Seven quick tips for analysis scripts in neuroimaging**](https://journals.plos.org/ploscompbiol/article?id=10.1371%2Fjournal.pcbi.1007358)  \n",
    "Marijn van Vliet"
   ]
  }
 ],
 "metadata": {
  "kernelspec": {
   "display_name": "Python 3",
   "language": "python",
   "name": "python3"
  },
  "language_info": {
   "codemirror_mode": {
    "name": "ipython",
    "version": 3
   },
   "file_extension": ".py",
   "mimetype": "text/x-python",
   "name": "python",
   "nbconvert_exporter": "python",
   "pygments_lexer": "ipython3",
   "version": "3.8.5"
  }
 },
 "nbformat": 4,
 "nbformat_minor": 2
}
