{
 "cells": [
  {
   "cell_type": "markdown",
   "metadata": {},
   "source": [
    "<img src=\"images/charmeleon.png\" alt=\"Adept\" width=\"200\">\n",
    "\n",
    "# Data preprocessing"
   ]
  },
  {
   "cell_type": "markdown",
   "metadata": {},
   "source": [
    "Welcome to the next level!\n",
    "In the previous level, you have learned some programming basics, culminating in you successfully visualizing some continuous EEG data.\n",
    "Now, we're going to use some more functions of the [MNE-Python](https://martinos.org/mne) module to perform frequency filtering and cutting up the signal into epochs."
   ]
  },
  {
   "cell_type": "markdown",
   "metadata": {},
   "source": [
    "## The experiment\n",
    "\n",
    "The EEG data was recorded while a brave volunteer was sitting in front of a computer screen, looking at pictures of playing cards.\n",
    "At the beginning of the experiment, the volunteer chose one of the cards.\n",
    "Then, all cards started flashing across the screen in a random order.\n",
    "The volunteer was silently counting how many times his/her chosen card was presented.\n",
    "\n",
    "<center>\n",
    "    <img src=\"images/cards.png\" width=\"400\" style=\"margin-top: 1ex\">\n",
    "</center>\n",
    "\n",
    "By analyzing the EEG signal, we should be able to see a change in the ERP whenever the chosen card appeared on the screen."
   ]
  },
  {
   "cell_type": "markdown",
   "metadata": {},
   "source": [
    "## Loading the data\n",
    "\n",
    "Below is some code that will load the EEG data.\n",
    "It should look familiar to you if you have completed the last level.\n",
    "However, I've added a bit. Can you spot what I have added?"
   ]
  },
  {
   "cell_type": "code",
   "execution_count": null,
   "metadata": {},
   "outputs": [],
   "source": [
    "from mne.io import read_raw_bdf\n",
    "raw = read_raw_bdf('data/magic-trick-raw.bdf', preload=True)\n",
    "print(raw)"
   ]
  },
  {
   "cell_type": "markdown",
   "metadata": {},
   "source": [
    "## Dissecting the program above\n",
    "\n",
    "The first line of the program above imports the [`read_raw_bdf`](https://www.martinos.org/mne/stable/generated/mne.io.read_raw_bdf.html) function from the `mne.io` module.\n",
    "\n",
    "The second line of the program is the most complicated. A lot of stuff is going on there:\n",
    "\n",
    "<img src=\"images/function_call_explanation.png\">\n",
    "\n",
    "The [`read_raw_bdf`](https://www.martinos.org/mne/stable/generated/mne.io.read_raw_bdf.html) function is called with two parameters. The first parameter is a piece of text (a \"string\") containing the name of the BDF file to load. Literal text (strings) must always be enclosed in `'` quotes. The second parameter is a \"named\" parameter, which is something I added since last level. We will use named parameters a lot during this session (see below). This parameter is set to the special value `True`. Python has three special values: `True`, `False`, and `None`, which are often used to indicate \"yes\", \"no\", and \"I don't know/care\" respectively. Finally, the result is stored in a variable called `raw`.\n",
    "\n",
    "The last line of the program calls the [`print`](https://docs.python.org/3/library/functions.html#print) function, which is used to display things. Here, it is called with the `raw` variable as parameter, so it displays the data contained in this variable, namely the data we loaded with [`read_raw_bdf`](https://www.martinos.org/mne/stable/generated/mne.io.read_raw_bdf.html)."
   ]
  },
  {
   "cell_type": "markdown",
   "metadata": {},
   "source": [
    "## Named parameters\n",
    "\n",
    "Many functions of MNE-Python take dozens of parameters that fine-tune exactly how to perform some operation. If you had to specify them all every time you want to call a function, you'd spend ages worrying about little details and get nothing done. Luckily, Python allows us to specify default values for parameters, which means these parameters may be omitted when calling a function, and the default will be used. In MNE-Python, most parameters have a default value, so while a function may have 20 parameters, you only have to specify one or two. The rest of the parameters are like little knobs and buttons you can use to fine tune things, or just leave alone. This allows MNE-Python to keep simple things simple, while making complicated things possible.\n",
    "\n",
    "Parameters with default values are called \"named\" parameters, and you specify them with `name=value`. The `preload` parameter that you saw in the program above is such a named parameter. It controls whether to load all of the data in memory, or only read the \"metadata\" of the file, i.e., when it was recorded, how long it is, how many sensors the MEG machine had, etc. By default, `preload=False`, meaning only the metadata is read. In the example above, we set it to `True`, indicating we wish to really load all the data in memory."
   ]
  },
  {
   "cell_type": "markdown",
   "metadata": {},
   "source": [
    "## Visualizing the data\n",
    "\n",
    "As we have seen in the last level, raw data can be visualized (or \"plotted\") by the [`plot_raw`](https://www.martinos.org/mne/stable/generated/mne.viz.plot_raw.html) function that is kept inside the `mne.viz` module.\n",
    "It needs one parameter: the variable containing the data you wish to plot. (It also has a lot of named parameters, but you can leave them alone for now.)\n",
    "\n",
    "As a quick refresher, I'm going to let you write the visualization code.\n",
    "But first, there is a little housekeeping that we need to do.\n",
    "We need to tell the visualization engine to send the results to your browser and not attempt to open a window on the server where this code is running. Please run the cell below:"
   ]
  },
  {
   "cell_type": "code",
   "execution_count": null,
   "metadata": {},
   "outputs": [],
   "source": [
    "%matplotlib widget\n",
    "print('From now on, all graphics will send to your browser.')"
   ]
  },
  {
   "cell_type": "markdown",
   "metadata": {},
   "source": [
    "Now, it's your turn! Write the Python code that will visualize the raw EEG data we just loaded.\n",
    "Keep the following things in mind:\n",
    " 1. The function is called [`plot_raw`](https://www.martinos.org/mne/stable/generated/mne.viz.plot_raw.html) and is kept inside the `mne.viz` module. Remember to `import` to function first!\n",
    " 2. Call the function with one parameter, namely the `raw` variable we created above that contains the MEG data.\n",
    " 3. Assign the result of the [`plot_raw`](https://www.martinos.org/mne/stable/generated/mne.viz.plot_raw.html) function to a variable (pick any name you want), otherwise the figure will show twice.\n",
    " \n",
    "Use the cell below to write your code:"
   ]
  },
  {
   "cell_type": "code",
   "execution_count": null,
   "metadata": {
    "scrolled": true
   },
   "outputs": [],
   "source": []
  },
  {
   "cell_type": "markdown",
   "metadata": {},
   "source": [
    "If you wrote the code correctly, you should be looking at a little interface that shows the data collected on all the EEG sensors. Click inside the scrollbars or use the arrow keys to explore the data.\n"
   ]
  },
  {
   "cell_type": "markdown",
   "metadata": {},
   "source": [
    "## Events, and how to read the documentation\n",
    "\n",
    "\n",
    "Browsing through the sensors, you will notice there are two types:\n",
    "\n",
    " * 8 EEG sensors, named Fz-P2\n",
    " * 1 STIM sensor, which is not really a sensor, so we'll call it a \"channel\". Its name is \"Status\"\n",
    " \n",
    "Take a close look at the STIM channel.\n",
    "On this channel, the computer that is presenting the stimuli was sending timing information to the MEG equipment.\n",
    "Whenever a stimulus (one of the 9 playing cards) was presented, the signal at this channel jumps briefly from 0 to 1-9, indicating which playing card was being shown.\n",
    "\n",
    "We can use this channel to create an \"events\" matrix: a table listing all the times a stimulus was presented, along with the time of the event and the type of stimulus.\n",
    "The function to do this is called [`find_events`](https://www.martinos.org/mne/stable/generated/mne.find_events.html), and is kept inside the `mne` module.\n",
    "\n",
    "In this document, all the function names are links to their documentation. Click on [`find_events`](https://www.martinos.org/mne/stable/generated/mne.find_events.html) to pull up its documentation. It will open a new browser tab. It should look like this:\n",
    "\n",
    "<img src=\"images/doc_with_explanation.png\" alt=\"Documentation for find_events\"/>\n",
    "\n",
    "Looking at the function \"signature\" reveals that many of the parameters have default values associated with them. This means these are named parameters and we can ignore them if we want. There is only a single required parameter, named `raw`. Looking at the parameter list, it seems we need to set it to the raw data we just loaded with the [`read_raw_bdf`](https://www.martinos.org/mne/stable/generated/mne.io.read_raw_bdf.html) function. If we called the function correctly, it should provide us with an \"array\" (don't worry about what an array is for now) with all the events."
   ]
  },
  {
   "cell_type": "markdown",
   "metadata": {},
   "source": [
    "Now, call the function and find some events! Keep the following things in mind:\n",
    "\n",
    " 1. The function is called [`find_events`](https://www.martinos.org/mne/stable/generated/mne.find_events.html) and is kept inside the `mne` module. Remember to `import` to function first!\n",
    " 2. Call the function. Use the documentation to find out what parameters it needs.\n",
    " 3. Assign the result to a variable called `events`."
   ]
  },
  {
   "cell_type": "code",
   "execution_count": null,
   "metadata": {},
   "outputs": [],
   "source": []
  },
  {
   "cell_type": "markdown",
   "metadata": {},
   "source": [
    "If you called the function correctly, running the cell below should display the found events on top of the raw data. It should show as cyan lines, with a number on top indicating the type of event.\n",
    "These numbers are referred to as \"event codes\"."
   ]
  },
  {
   "cell_type": "code",
   "execution_count": null,
   "metadata": {
    "scrolled": true
   },
   "outputs": [],
   "source": [
    "fig = plot_raw(raw, events=events)"
   ]
  },
  {
   "cell_type": "markdown",
   "metadata": {},
   "source": [
    "## Frequency filtering, or, working with objects\n",
    "\n",
    "Throughout this exercise, we have created many variables, such as `raw` and `events`.\n",
    "Up to now, we've treated these as simple boxes that hold some data, or rather \"objects\" as they are called in Python.\n",
    "However, the box/object metaphor is not really a good one.\n",
    "Variables are more like little machines of their own.\n",
    "They can do things!\n",
    "\n",
    "The `raw` variable is a very powerful object.\n",
    "If you want, you can look at the documentation for [Raw](https://www.martinos.org/mne/stable/generated/mne.io.Raw.htm) to see the long list of things it can do.\n",
    "\n",
    "One useful things is that a `raw` object knows how to visualize (i.e. \"plot\") itself.\n",
    "You already know that modules hold functions, but objects can hold functions too.\n",
    "Functions that are kept inside objects are called \"methods\", to distinguish them from \"functions\" that are kept inside modules.\n",
    "\n",
    "Instead of using the [`plot_raw`](https://www.martinos.org/mne/stable/generated/mne.viz.plot_raw.html) function, we can use the plotting method of the object itself, like this:\n",
    "\n",
    "```python\n",
    "fig = raw.plot()\n",
    "```\n",
    "\n",
    "Notice how the `.plot()` method call doesn't need any parameters: it already know which object it needs to visualize, namely the object it belong to.\n",
    "In MNE-Python, many objects have such a [`plot`](https://www.martinos.org/mne/stable/generated/mne.Epochs.html#mne.Epochs.plot) method.\n",
    "\n",
    "Another method of the `raw` object is called `filter`, which applies a frequency filter to the data.\n",
    "A frequency filter gets rid of some of the waves in the data that are either too slow or to fast to be of any interest to us.\n",
    "The `raw.filter()` method takes two parameters: a lower bound and upper bound, expressed in Hz.\n",
    "From this, we can deduce it applies a \"bandpass\" filter: keeping only waves within a certain frequency range.\n",
    "Here is an example of a bandpass filter that keeps only waves between 5 to 50 Hz:\n",
    "\n",
    "```python\n",
    "raw.filter(5, 50)\n",
    "```\n",
    "\n",
    "Notice how the result of the method is not assigned to any variable.\n",
    "In this case, the `raw.filter` method operated on the `raw` variable directly, overwriting the data contained in it.\n",
    "\n",
    "In this experiment, we're hunting for the P300 \"oddball\" effect, which is a relatively slow wave, but note extremely slow.\n",
    "A good choice for us would be to get rid of all waves slower than 0.5 Hz and all waves faster than 20 Hz.\n",
    "In the cell below, write the code to apply the desired bandpass filter to the data.\n",
    "Note that the example given above used a different frequency range (5-50 Hz) than the one we actually want (0.5-20 Hz), so you will have to make some changes.\n",
    "\n",
    "After you have applied the frequency filter, plot the data using the `raw.plot()` method so you can see the result of your hard work."
   ]
  },
  {
   "cell_type": "code",
   "execution_count": null,
   "metadata": {},
   "outputs": [],
   "source": []
  },
  {
   "cell_type": "markdown",
   "metadata": {},
   "source": [
    "## Epochs, or, how to create a dictionary\n",
    "\n",
    "<img src=\"images/dictionary.jpg\" width=\"200\" style=\"float: right; margin-left: 10px\">\n",
    "\n",
    "Now that we have the information on what stimulus was presented at one time, we can extract \"epochs\". Epochs are little snippets of signal surrounding an event. These epochs can then be averaged to produce the \"evoked\" signal.\n",
    "\n",
    "In order to create epochs, we need a way to translate the event codes (1, 2, 3, ...) into something more descriptive.\n",
    "This can be done using a new type of variable called a [\"dictionary\"](https://docs.python.org/2/tutorial/datastructures.html#dictionaries).\n",
    "A Python dictionary, allows us (or rather the computer) to \"look things up\".\n",
    "The following piece of code creates a dictionary called `event_id`. Take a look and run it:"
   ]
  },
  {
   "cell_type": "code",
   "execution_count": null,
   "metadata": {},
   "outputs": [],
   "source": [
    "event_id = { 'Ace of spades': 1, 'Jack of clubs': 2, 'Queen of hearts': 3, 'King of diamonds': 4, '10 of spades': 5, '3 of clubs': 6, '10 of hearts': 7, '3 of diamonds': 8, 'King of spades': 9 }"
   ]
  },
  {
   "cell_type": "markdown",
   "metadata": {},
   "source": [
    "A dictionary is created by using curly braces `{ }` and colons `:`. I've spread out the code over multiple lines to make things a little clearer. The way you create a dictionary is to say `{this: means that}` and you use commas if you want to put more than one thing in the dictionary.\n",
    "\n",
    "Finally, you should know that Python allows you to spread out lists across multiple lines, so we can write our dictionary like this, which is much nicer to read:"
   ]
  },
  {
   "cell_type": "code",
   "execution_count": null,
   "metadata": {},
   "outputs": [],
   "source": [
    "event_id = {\n",
    "    'Ace of spades': 1,\n",
    "    'Jack of clubs': 2,\n",
    "    'Queen of hearts': 3,\n",
    "    'King of diamonds': 4,\n",
    "    '10 of spades': 5,\n",
    "    '3 of clubs': 6,\n",
    "    '10 of hearts': 7,\n",
    "    '3 of diamonds': 8,\n",
    "    'King of spades': 9,\n",
    "}"
   ]
  },
  {
   "cell_type": "markdown",
   "metadata": {},
   "source": [
    "Armed with our `event_id` dictionary, we can move on to creating epochs.\n",
    "\n",
    "For each event, let's cut a snippet of signal from 0.2 seconds *before* the moment the stimulus was presented, up until 0.5 seconds *after* it was presented. If we take the moment the stimulus was presented as time 0, we will cut epochs from -0.2 until 0.5 seconds.\n",
    "\n",
    "The function to do this is called [`Epochs`](https://www.martinos.org/mne/stable/generated/mne.Epochs.html) (with a capital E).\n",
    "Click on the function name to open its documentation and look at the parameters it needs.\n",
    "\n",
    "<div style=\"margin-left: 50px; margin-top: 1ex\"><img src=\"images/OMG.png\" width=\"20\" style=\"display: inline\"> That's a lot of parameters!</div>\n",
    "<div style=\"margin-left: 50px\"><img src=\"images/thinking.png\" width=\"20\" style=\"display: inline\"> Ok, how many are optional?</div>\n",
    "<div style=\"margin-left: 50px\"><img src=\"images/phew.png\" width=\"20\" style=\"display: inline\"> Almost all of them, phew!</div>\n",
    "\n",
    "Here are the points of the documentation that are most relevant to us right now:\n",
    "* There are two required arguments, the `raw` data and the `events` array we created earlier.\n",
    "* The next optional parameter is the `event_id` dictionary we just created.\n",
    "* The next two optional parameters, `tmin` and `tmax`, specify the time range to cut epochs for. They are set to -0.2 to 0.5 seconds by default. We want a little more than that. Set them to cut epochs from -0.2 to 0.8 seconds.\n",
    "* We can also leave the rest of the parameters alone.\n",
    "\n",
    "Go ahead and `import` the [`Epochs`](https://www.martinos.org/mne/stable/generated/mne.Epochs.html) function from the `mne` module.\n",
    "Then call it with the correct parameters and store the result in a variable called `epochs` (small e):"
   ]
  },
  {
   "cell_type": "code",
   "execution_count": null,
   "metadata": {
    "slideshow": {
     "slide_type": "slide"
    }
   },
   "outputs": [],
   "source": []
  },
  {
   "cell_type": "markdown",
   "metadata": {},
   "source": [
    "Most MNE-Python have a `.plot()` method to visualize themselves. The cell below will create an interactive visualization of your epochs. Click inside the scrollbars or use the arrow keys to scroll through the data."
   ]
  },
  {
   "cell_type": "code",
   "execution_count": null,
   "metadata": {},
   "outputs": [],
   "source": [
    "epochs.plot()"
   ]
  },
  {
   "cell_type": "markdown",
   "metadata": {},
   "source": [
    "\n",
    "## Continue onward to the next level!\n",
    "\n",
    "Great job making it this far. You've taken some steps along the path towards becoming a data analyst. Take a look at the clock. If we still have some time, I'd like to invite you to move on to the next level: computing the ERP.\n",
    "\n",
    "<center>\n",
    "<a href=\"expert.ipynb\" alt=\"To expert level\"><img src=\"images/charizard.png\" width=\"200\"></a>\n",
    "<a href=\"expert.ipynb\">Move on to the next level</a>\n",
    "</center>"
   ]
  }
 ],
 "metadata": {
  "kernelspec": {
   "display_name": "Python 3 (ipykernel)",
   "language": "python",
   "name": "python3"
  },
  "language_info": {
   "codemirror_mode": {
    "name": "ipython",
    "version": 3
   },
   "file_extension": ".py",
   "mimetype": "text/x-python",
   "name": "python",
   "nbconvert_exporter": "python",
   "pygments_lexer": "ipython3",
   "version": "3.11.11"
  }
 },
 "nbformat": 4,
 "nbformat_minor": 4
}
