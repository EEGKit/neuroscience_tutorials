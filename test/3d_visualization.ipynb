{
 "cells": [
  {
   "cell_type": "code",
   "execution_count": 3,
   "id": "c0625e89-f46f-419e-a81a-c177253d1f88",
   "metadata": {},
   "outputs": [
    {
     "name": "stdout",
     "output_type": "stream",
     "text": [
      "Using notebook 3d backend.\n"
     ]
    }
   ],
   "source": [
    "%matplotlib widget\n",
    "import mne\n",
    "mne.viz.set_3d_backend(\"notebook\")"
   ]
  },
  {
   "cell_type": "code",
   "execution_count": 34,
   "id": "4fa6d137-2445-43ca-8797-9ea120cfec7e",
   "metadata": {},
   "outputs": [
    {
     "name": "stdout",
     "output_type": "stream",
     "text": [
      "    Read a total of 3 projection items:\n",
      "        PCA-v1 (1 x 102)  idle\n",
      "        PCA-v2 (1 x 102)  idle\n",
      "        PCA-v3 (1 x 102)  idle\n"
     ]
    }
   ],
   "source": [
    "path = mne.datasets.sample.data_path() / \"MEG\" / \"sample\"\n",
    "subjects_dir = mne.datasets.sample.data_path() / \"subjects\"\n",
    "trans = path / \"sample_audvis_raw-trans.fif\"\n",
    "info = mne.io.read_info(path / \"sample_audvis_raw.fif\")"
   ]
  },
  {
   "cell_type": "code",
   "execution_count": 36,
   "id": "5e3ebac2-6861-4d79-82c0-062ad353c77a",
   "metadata": {},
   "outputs": [
    {
     "name": "stdout",
     "output_type": "stream",
     "text": [
      "head-dense None sample\n",
      "Using lh.seghead for head surface.\n",
      "Getting helmet for system 306m\n",
      "Channel types::\tgrad: 203, mag: 102, eeg: 59\n"
     ]
    },
    {
     "data": {
      "application/vnd.jupyter.widget-view+json": {
       "model_id": "9fb1077f1ac1496aa7a45d98f3f2ba0c",
       "version_major": 2,
       "version_minor": 0
      },
      "text/plain": [
       "HBox(children=(Text(value='', layout=Layout(margin='2px 0px 2px 0px', min_width='0px'), placeholder='Type a fi…"
      ]
     },
     "metadata": {},
     "output_type": "display_data"
    },
    {
     "data": {
      "application/vnd.jupyter.widget-view+json": {
       "model_id": "3657fe96079f4dad8381a521264cfeeb",
       "version_major": 2,
       "version_minor": 0
      },
      "text/plain": [
       "HBox(children=(Widget(value='<iframe src=\"http://localhost:43825/index.html?ui=P_0x742607414250_19&reconnect=a…"
      ]
     },
     "metadata": {},
     "output_type": "display_data"
    },
    {
     "data": {
      "application/vnd.jupyter.widget-view+json": {
       "model_id": "7333326603b84bdca9fdf33b4362e374",
       "version_major": 2,
       "version_minor": 0
      },
      "text/plain": [
       "VBox(children=(HBox(children=(Button(icon='chevron-up', layout=Layout(flex='auto 1 auto', width='auto'), style…"
      ]
     },
     "metadata": {},
     "output_type": "display_data"
    },
    {
     "data": {
      "text/plain": [
       "<mne.viz.backends._pyvista.PyVistaFigure at 0x7425fc85e910>"
      ]
     },
     "execution_count": 36,
     "metadata": {},
     "output_type": "execute_result"
    }
   ],
   "source": [
    "mne.viz.plot_alignment(info, trans=trans, subject=\"sample\", subjects_dir=subjects_dir, coord_frame=\"mri\", surfaces=[\"brain\", \"head-dense\"])"
   ]
  }
 ],
 "metadata": {
  "kernelspec": {
   "display_name": "Python 3 (ipykernel)",
   "language": "python",
   "name": "python3"
  },
  "language_info": {
   "codemirror_mode": {
    "name": "ipython",
    "version": 3
   },
   "file_extension": ".py",
   "mimetype": "text/x-python",
   "name": "python",
   "nbconvert_exporter": "python",
   "pygments_lexer": "ipython3",
   "version": "3.11.11"
  }
 },
 "nbformat": 4,
 "nbformat_minor": 5
}
