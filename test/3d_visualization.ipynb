{
 "cells": [
  {
   "cell_type": "code",
   "execution_count": null,
   "id": "c0625e89-f46f-419e-a81a-c177253d1f88",
   "metadata": {},
   "outputs": [],
   "source": [
    "%matplotlib widget\n",
    "import mne\n",
    "mne.viz.set_3d_backend(\"notebook\")\n",
    "mne.viz.plot_alignment(subject=\"fsaverage\", subjects_dir=\"../rsa/data/freesurfer\", coord_frame=\"mri\", surfaces=[\"brain\", \"head-dense\"])"
   ]
  }
 ],
 "metadata": {
  "kernelspec": {
   "display_name": "Python 3 (ipykernel)",
   "language": "python",
   "name": "python3"
  },
  "language_info": {
   "codemirror_mode": {
    "name": "ipython",
    "version": 3
   },
   "file_extension": ".py",
   "mimetype": "text/x-python",
   "name": "python",
   "nbconvert_exporter": "python",
   "pygments_lexer": "ipython3",
   "version": "3.11.11"
  }
 },
 "nbformat": 4,
 "nbformat_minor": 5
}
