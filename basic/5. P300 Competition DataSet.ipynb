{
 "cells": [
  {
   "cell_type": "markdown",
   "metadata": {},
   "source": [
    "# Work in Progress\n",
    "\n",
    "The idea here is to load some BCI competition data and classify it."
   ]
  },
  {
   "cell_type": "code",
   "execution_count": 1,
   "metadata": {
    "collapsed": false
   },
   "outputs": [],
   "source": [
    "import psychic\n",
    "import numpy as np"
   ]
  },
  {
   "cell_type": "code",
   "execution_count": 2,
   "metadata": {
    "collapsed": false
   },
   "outputs": [
    {
     "name": "stdout",
     "output_type": "stream",
     "text": [
      "['Signal', 'StimulusCode', '__header__', '__globals__', 'TargetChar', 'StimulusType', 'Flashing', '__version__']\n"
     ]
    }
   ],
   "source": [
    "from scipy.io import loadmat\n",
    "m = loadmat('p300/Subject_A_Train.mat')\n",
    "print m.keys()"
   ]
  },
  {
   "cell_type": "code",
   "execution_count": 59,
   "metadata": {
    "collapsed": false
   },
   "outputs": [],
   "source": [
    "def cl(letter):\n",
    "    alphabet = [['A', 'B', 'C', 'D', 'E', 'F'],\n",
    "                ['G', 'H', 'I', 'J', 'K', 'L'],\n",
    "                ['M', 'N', 'O', 'P', 'Q', 'R'],\n",
    "                ['S', 'T', 'U', 'V', 'W', 'X'],\n",
    "                ['Y', 'Z', '1', '2', '3', '4'],\n",
    "                ['5', '6', '7', '8', '9', '_']]"
   ]
  },
  {
   "cell_type": "code",
   "execution_count": 53,
   "metadata": {
    "collapsed": false
   },
   "outputs": [],
   "source": [
    "mdict = dict([(i, 'column %d' % i) for i in range(1,7)] + [(i+6, 'row %d' % i) for i in range(1,7)])\n",
    "def process_trial(data, labels, target):\n",
    "    d = psychic.DataSet(data.T, labels=labels.astype(int)+1, ids=np.arange(data.shape[0])/240.)\n",
    "    flashes = psychic.nodes.Slice(mdict, (0, 0.7)).train_apply(d)\n",
    "    return flashes"
   ]
  },
  {
   "cell_type": "code",
   "execution_count": 58,
   "metadata": {
    "collapsed": false
   },
   "outputs": [],
   "source": [
    "train = psychic.concatenate([process_trial(m['Signal'][i,:,:], m['StimulusCode'][i,:], m['TargetChar'][0][i]) for i in range(85)], ignore_index=True)"
   ]
  },
  {
   "cell_type": "code",
   "execution_count": 47,
   "metadata": {
    "collapsed": false
   },
   "outputs": [
    {
     "name": "stdout",
     "output_type": "stream",
     "text": [
      "DataSet with 61 instances, 10752 features [64x168], 2 classes: [31, 30], extras: []\n"
     ]
    }
   ],
   "source": [
    "print process_trial(m['Signal'][0,:], m['StimulusType'][0,:])"
   ]
  },
  {
   "cell_type": "code",
   "execution_count": 57,
   "metadata": {
    "collapsed": false
   },
   "outputs": [
    {
     "data": {
      "text/plain": [
       "u'EAEVQTDOJG8RBRGONCEDHCTUIDBPUHMEM6OUXOCFOUKWA4VJEFRZROLHYNQDW_EKTLBWXEPOUIKZERYOOTHQI'"
      ]
     },
     "execution_count": 57,
     "metadata": {},
     "output_type": "execute_result"
    }
   ],
   "source": [
    "m['TargetChar'][0]"
   ]
  },
  {
   "cell_type": "code",
   "execution_count": 13,
   "metadata": {
    "collapsed": false
   },
   "outputs": [
    {
     "data": {
      "text/plain": [
       "[<matplotlib.lines.Line2D at 0x7f7d4edc23d0>]"
      ]
     },
     "execution_count": 13,
     "metadata": {},
     "output_type": "execute_result"
    }
   ],
   "source": [
    "plot(m['StimulusType'][0,:])"
   ]
  },
  {
   "cell_type": "code",
   "execution_count": null,
   "metadata": {
    "collapsed": false
   },
   "outputs": [],
   "source": []
  }
 ],
 "metadata": {
  "kernelspec": {
   "display_name": "Python 2",
   "language": "python",
   "name": "python2"
  },
  "language_info": {
   "codemirror_mode": {
    "name": "ipython",
    "version": 2
   },
   "file_extension": ".py",
   "mimetype": "text/x-python",
   "name": "python",
   "nbconvert_exporter": "python",
   "pygments_lexer": "ipython2",
   "version": "2.7.10"
  }
 },
 "nbformat": 4,
 "nbformat_minor": 0
}
