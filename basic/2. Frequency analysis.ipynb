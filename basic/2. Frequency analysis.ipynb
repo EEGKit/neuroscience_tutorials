{
 "metadata": {
  "name": "2. Frequency analysis"
 },
 "nbformat": 3,
 "nbformat_minor": 0,
 "worksheets": [
  {
   "cells": [
    {
     "cell_type": "markdown",
     "metadata": {},
     "source": [
      "# 2. Frequency analysis\n",
      "\n",
      "This tutorial covers basic frequency analysis of the EEG signal. The recording that is used is of a subject performing the SSVEP (steady-state visual evoked potential) paradigm. In simplest terms: when we look at a light that is flashing on and off at a certain frequency $f$, the neurons in our visual cortex will resonate at the same frequency (plus the harmonics $1f$, $2f$, $3f$, ...) This phenomenon can be used to create a brain-computer interface. Different options are presented on the screen, each flashing at a different frequency. By determining the frequency at which the visual cortex is resonating, the option that is attended can be distinguished from the rest.\n",
      "\n",
      "In the current case, the subject is a witness in a cluedo murder mystery. He will try to communicate the murderer, weapon and location. The options available for selection, along with their corresponding frequency are as follows:\n",
      "\n",
      "    Murderer:\n",
      "        Colonel Mustard (8Hz)\n",
      "        Miss Scarlett (10Hz)\n",
      "        Professor Plum (12Hz)\n",
      "        Reverend Green (15Hz)\n",
      "\n",
      "    Weapon:\n",
      "        Axe (8Hz)\n",
      "        Poison (10Hz)\n",
      "        Revolver (12Hz)\n",
      "        Rope (15Hz)\n",
      "\n",
      "    Location:\n",
      "        Billiard Room (8Hz)\n",
      "        Dining Room (10Hz)\n",
      "        Kitchen (12Hz)\n",
      "        Library (15Hz)\n",
      "\n"
     ]
    },
    {
     "cell_type": "markdown",
     "metadata": {},
     "source": [
      "The data is located on my public dropbox account. Again, running the code below will download the data, which will take some time depending on the speed of your internet connection.\n",
      "\n",
      "**NOTE:** The data used in this tutorial is EEG data that has been bandpass filtered with a 3rd order Butterworth filter with a passband of 1.0-40 Hz. When performing analysis on other data, you might have to filter it yourself. Bandpass filtering is covered in the 3rd tutorial."
     ]
    },
    {
     "cell_type": "code",
     "collapsed": false,
     "input": [
      "import urllib\n",
      "urllib.urlretrieve('http://dl.dropbox.com/u/79303435/tutorial2-01.mat?dl=1', 'tutorial2-01.mat');"
     ],
     "language": "python",
     "metadata": {},
     "outputs": [],
     "prompt_number": 3
    },
    {
     "cell_type": "markdown",
     "metadata": {},
     "source": [
      "Using [`scipy.io.loadmat`](http://docs.scipy.org/doc/scipy/reference/generated/scipy.io.loadmat.html) to load the Matlab file and printing the variables stored within:"
     ]
    },
    {
     "cell_type": "code",
     "collapsed": false,
     "input": [
      "import scipy.io\n",
      "m = scipy.io.loadmat('tutorial2-01.mat')\n",
      "print m.keys()"
     ],
     "language": "python",
     "metadata": {},
     "outputs": [
      {
       "output_type": "stream",
       "stream": "stdout",
       "text": [
        "['__header__', '__globals__', 'Murder_filteredEEG', 'Weapon_filteredEEG', '__version__', 'Room_filteredEEG']\n"
       ]
      }
     ],
     "prompt_number": 4
    },
    {
     "cell_type": "markdown",
     "metadata": {},
     "source": [
      "The three variables of interest are `Murder_filteredEEG`, `Weapon_filteredEEG` and `Room_filteredEEG`:"
     ]
    },
    {
     "cell_type": "code",
     "collapsed": false,
     "input": [
      "murder_EEG = m['Murder_filteredEEG']\n",
      "weapon_EEG = m['Weapon_filteredEEG']\n",
      "room_EEG = m['Room_filteredEEG']\n",
      "\n",
      "print 'Shape of murder_EEG:', murder_EEG.shape\n",
      "print 'Shape of weapon_EEG:', weapon_EEG.shape\n",
      "print 'Shape of room_EEG:', room_EEG.shape"
     ],
     "language": "python",
     "metadata": {},
     "outputs": [
      {
       "output_type": "stream",
       "stream": "stdout",
       "text": [
        "Shape of murder_EEG: (14, 2560)\n",
        "Shape of weapon_EEG: (14, 2560)\n",
        "Shape of room_EEG: (14, 2560)\n"
       ]
      }
     ],
     "prompt_number": 5
    },
    {
     "cell_type": "markdown",
     "metadata": {},
     "source": [
      "The data is recorded using the [Emotiv EPOC](http://www.emotiv.com) device. It has 14 channels and a sample rate of 128Hz:"
     ]
    },
    {
     "cell_type": "code",
     "collapsed": false,
     "input": [
      "nchannels, nsamples = murder_EEG.shape\n",
      "sample_rate = 128.0\n",
      "\n",
      "print 'Duration of recordings:', (nsamples / sample_rate), 'seconds'"
     ],
     "language": "python",
     "metadata": {},
     "outputs": [
      {
       "output_type": "stream",
       "stream": "stdout",
       "text": [
        "Duration of recordings: 20.0 seconds\n"
       ]
      }
     ],
     "prompt_number": 6
    },
    {
     "cell_type": "markdown",
     "metadata": {},
     "source": [
      "The subject was looking for 20 seconds at one of the four selection options. If we plot the [PSD](http://en.wikipedia.org/wiki/Spectral_density) (power spectral density) of the channels on the visual cortex, there should be a distinctive peak at the frequency of the attended option.\n",
      "\n",
      "The algorithm to calculate a PSD is provided by the matplotlib toolbox as [`matplotlib.mlab.psd`](http://matplotlib.org/api/mlab_api.html):"
     ]
    },
    {
     "cell_type": "code",
     "collapsed": false,
     "input": [
      "from matplotlib.mlab import psd\n",
      "psd?"
     ],
     "language": "python",
     "metadata": {},
     "outputs": [],
     "prompt_number": 7
    },
    {
     "cell_type": "markdown",
     "metadata": {},
     "source": [
      "Below is some code that calculates the PSD for some channels of the murderer EEG block:"
     ]
    },
    {
     "cell_type": "code",
     "collapsed": false,
     "input": [
      "# These channels are roughly in the area covering the visual cortex\n",
      "channels_of_interest = [0, 1, 2, 11, 12, 13]\n",
      "\n",
      "# Create a new figure\n",
      "figure(figsize=(16,8))\n",
      "\n",
      "# Draw the PSD of each channel of interest\n",
      "for i,ch in enumerate(channels_of_interest):\n",
      "    \n",
      "    # The main plot is devided into 6 subplots: one for each channel\n",
      "    # They are layed out in a grid: 2 rows and 3 columns\n",
      "    subplot(2, 3, i+1)\n",
      "    \n",
      "    # Calculate the PSD (using a function in the matplotlib module)\n",
      "    from matplotlib.mlab import psd\n",
      "    (murder_PSD, freqs) = psd(murder_EEG[ch,:], NFFT=nsamples, Fs=sample_rate)\n",
      "\n",
      "    # Plot the PSD\n",
      "    plot(freqs, murder_PSD)\n",
      "    \n",
      "    # Each graph should have the same scale, otherwise we cannot compare them\n",
      "    xlim(0, 40)\n",
      "    #ylim(0, 60)\n",
      "\n",
      "    # Add some decoration\n",
      "    #grid()\n",
      "    xlabel('Frequency (Hz)')\n",
      "    ylabel('PSD (dB)')\n",
      "    title('Channel %d' % ch)\n",
      "    \n",
      "# Instruct the plotting engine to use 'tight layout', otherwise labels are drawn on top of eachother\n",
      "tight_layout()"
     ],
     "language": "python",
     "metadata": {},
     "outputs": [],
     "prompt_number": 8
    },
    {
     "cell_type": "markdown",
     "metadata": {},
     "source": [
      "The EEG recording made by the Emotiv EPOC is noisy: there are many peaks. Still, the peak at 10Hz is strongest as can be observed at channels 0 and 13. Therefore the conclusion is that the murderer is Miss Scarlett."
     ]
    },
    {
     "cell_type": "markdown",
     "metadata": {},
     "source": [
      "## Automatic classification\n",
      "\n",
      "A common approach to automatically determine the frequency that is present most strongly is [Canonical Correlation Analysis (CCA)](http://en.wikipedia.org/wiki/Canonical_correlation) [1]. The idea is that an EEG recording of someone looking at a SSVEP stimulus with frequency $f$, will be highly correlated with a generated sine wave with the same frequency. More so than a generated sine wave with a different frequency. Under the condition that the EEG signal and the generated sine are in phase (e.g. the waveforms 'line up'). This condition is problematic, as we have no guarantee that this will be the case. To counter the phase shift, we correlate the EEG signal with both a sine and a cosine wave, following the same logic employed by the Fourier transform. If the sine wave correlates poorly, the cosine will correlate strongly and vice versa, as long as the frequencies match.\n",
      "\n",
      "Simple correlation analysis only compares two vectors, lets call them $x$ and $y$. For example a single EEG channel and an artificial signal of the same length. In our case we have multiple EEG channels, so vector $x$ becomes a matrix $X$ with samples along the rows and channels in the columns. We are testing this signal against multiple sine and cosine waves, generated with frequence $f$ and also some harmonics of $f$ ($2f$ and $3f$ in this case). So $y$ becomes a matrix $Y$ with the generated samples in the rows and each column containing either a sine or cosine generated with some frequency.\n",
      "\n",
      "The CCA procedure can be seen as a way to calculate the correlation between two sets of vectors simultaniously, a set of vectors being the same as a matrix. It does so be calculating a vector $u_0$, which is a linear combination of the columns of $X$ and a vector $v_0$, which is a linear combination of the columns of $Y$, in such a way that the correlation coefficient $\\rho$ between $u_0$ and $v_0$ is maximal. It then goes on to calculate more vectors $u_1$ and $v_1$ that are uncorrelated with $u_0$ and $v_0$ and maximally correlated with each other. In our case however, we are only interested in the correlation between $u_0$ and $v_0$.\n",
      "\n",
      "The task of our classifier is what we did manually before: to pick, out of the frequencies of all the stimuli on the screen, the one that best corresponds to what is present in the EEG signal. Therefore, for each frequency, we calculate a score for that frequency by performing CCA between the EEG signal and a matrix of generated sine/cosine waves with the frequency and its harmonics. Finally we pick the frequency with the highest score.\n",
      "\n",
      "[1] Frequency recognition based on canonical correlation analysis for SSVEP-based BCIs. \n",
      "Lin, Zhonglin / Zhang, Changshui / Wu, Wei / Gao, Xiaorong, *IEEE transactions on bio-medical engineering*, 53 (12 Pt 2), p.2610-2614, Dec 2006, http://www.ncbi.nlm.nih.gov/pubmed/17152442\n",
      "\n",
      "Below is the CCA classifier implemented as a Python function:"
     ]
    },
    {
     "cell_type": "code",
     "collapsed": false,
     "input": [
      "def ssvep_classifier(EEG, frequencies, sample_rate):\n",
      "    '''\n",
      "    SSVEP classifier based on Canonical Correlation Analysis (CCA).\n",
      "    Given a list of frequencies, this function will return the frequency\n",
      "    that is present the most strongly in some given EEG signal.\n",
      "    '''\n",
      "    nchannels, nsamples = EEG.shape\n",
      "    \n",
      "    # The matrix X is our EEG signal, but we transpose it so\n",
      "    # observations (=samples) are on the rows and variables (=channels)\n",
      "    # are on the columns.\n",
      "    X = EEG.T\n",
      "\n",
      "    # Keep track of the score for each frequency\n",
      "    scores = []\n",
      "    \n",
      "    # Calculate a timeline in seconds, so we can construct\n",
      "    # sine/cosine waves with the correct frequencies\n",
      "    time = arange(nsamples) / float(sample_rate)\n",
      "    \n",
      "    # Calculate sines/cosines for all possible frequencies \n",
      "    for frequency in frequencies:\n",
      "        \n",
      "        # Calculate this part only once\n",
      "        y = 2 * pi * frequency * time\n",
      "    \n",
      "        # Construct the matrix Y containing the base frequency and 2 harmonics\n",
      "        Y = vstack((sin(y), cos(y), sin(2*y), cos(2*y), sin(3*y), cos(3*y))).T\n",
      "    \n",
      "        # Center the variables (= remove the mean)\n",
      "        X = X - tile(mean(X, axis=0), (nsamples, 1))\n",
      "        Y = Y - tile(mean(Y, axis=0), (nsamples, 1))\n",
      "    \n",
      "        # Perform Q-R decomposition. We only care about the Q part, ignore R\n",
      "        QX,_ = linalg.qr(X)\n",
      "        QY,_ = linalg.qr(Y)\n",
      "    \n",
      "        # Compute canonical correlations through SVD\n",
      "        _, D, _ = linalg.svd(QX.T.dot(QY))\n",
      "        \n",
      "        # Note the highest (= first) coefficient as the final score for this frequency\n",
      "        scores.append(D[0])\n",
      "        \n",
      "    # Return the frequency with the highest score\n",
      "    return frequencies[ argmax(scores) ]"
     ],
     "language": "python",
     "metadata": {},
     "outputs": [],
     "prompt_number": 9
    },
    {
     "cell_type": "markdown",
     "metadata": {},
     "source": [
      "Putting the classifier to work, lets solve the murder completely:"
     ]
    },
    {
     "cell_type": "code",
     "collapsed": false,
     "input": [
      "print 'Murderer frequency: %d Hz.' % ssvep_classifier(murder_EEG, [8, 10, 12, 15], 128)\n",
      "print 'Weapon frequency:   %d Hz.' % ssvep_classifier(weapon_EEG, [8, 10, 12, 15], 128)\n",
      "print 'Room: frequency:    %d Hz.' % ssvep_classifier(room_EEG, [8, 10, 12, 15], 128)"
     ],
     "language": "python",
     "metadata": {},
     "outputs": [
      {
       "output_type": "stream",
       "stream": "stdout",
       "text": [
        "Murderer frequency: 10 Hz.\n",
        "Weapon frequency:   15 Hz.\n",
        "Room: frequency:    12 Hz.\n"
       ]
      }
     ],
     "prompt_number": 10
    },
    {
     "cell_type": "markdown",
     "metadata": {},
     "source": [
      "Looking at the table at the beginning of this tutorial, this means Miss Scarlett was the murderer, using a rope in the kitchen."
     ]
    },
    {
     "cell_type": "markdown",
     "metadata": {},
     "source": [
      "## Implementation of the MCD classifier as given in Chumerin et al.\n",
      "\n",
      "Formula 1:\n",
      "$$ P_A = A (A^\\top A)^{-1} A^\\top $$\n",
      "\n",
      "Formula 2:\n",
      "$$ \\tilde{X} = X - P_A X $$\n",
      "\n",
      "Formula 3: <br/>\n",
      "$K$ maximal for $ \\sum_{k=1}^{K} \\lambda_{N+1-k} / \\sum_{j=1}^{N} \\lambda_j \\lt 0.1 $\n",
      "\n",
      "Formula 4:\n",
      "$$ S = V_K X $$\n",
      "\n",
      "Formula 5:\n",
      "$$ Q(f) = \\frac{1}{K(N_h + 1)} \\sum_{k=1}^{K}\\sum_{h=1}^{N_h+1} P_k(hf) / \\sigma_k(hf) $$\n",
      "\n",
      "Formula 6:\n",
      "$$ P(f) = \\left(\\sum_t s(t) \\sin(2 \\pi ft)\\right)^2 + \\left(\\sum_t s(t) \\cos(2 \\pi ft)\\right)^2 $$\n",
      "\n",
      "Formula 7:\n",
      "$$ \\sigma(f) = \\frac{\\pi T}{4} \\frac{\\tilde{\\sigma}^2}{|1 - \\sum_{j=1}^{p} a_j \\exp(-2 \\pi ijf / F_s)|} $$\n",
      "\n",
      "Formula 8:\n",
      "$$ \\tilde{S} = V_k \\tilde{X} $$\n",
      "\n",
      "Formula 9:\n",
      "$$ f^* = \\underset{f_1,\\ldots,f_{n_f}}{\\arg\\max} \\hspace{0.3em} Q(f) $$"
     ]
    },
    {
     "cell_type": "code",
     "collapsed": false,
     "input": [
      "from itertools import product\n",
      "import spectrum \n",
      "\n",
      "def ssvep_classifier2(EEG, frequencies, nharmonics):\n",
      "    '''\n",
      "    Implementation of the MCD classifier as given in Chumerin et al.\n",
      "    '''\n",
      "    nchannels, nsamples = EEG.shape\n",
      "    \n",
      "    harmonics = arange(nharmonics+1) + 1\n",
      "    nharmonics = len(harmonics)\n",
      "    \n",
      "    # Calculate the timeline\n",
      "    time = arange(nsamples) / float(sample_rate)\n",
      "    \n",
      "    X = EEG\n",
      "    \n",
      "    # Constructing matrix A consisting of sines and cosines of all the frequencies\n",
      "    # and their harmonics\n",
      "    A = []\n",
      "    freqs_to_remove = [h * f for f,h in list(product(frequencies, harmonics))]\n",
      "    for f in freqs_to_remove:\n",
      "        A.append(sin(2 * pi * f * time))\n",
      "        A.append(cos(2 * pi * f * time))\n",
      "    A = vstack(A).T\n",
      "    \n",
      "    # Formula 1\n",
      "    P_A = A.dot(pinv(A.T.dot(A)).dot(A.T))\n",
      "\n",
      "    # Formula 2\n",
      "    tildeX = X - X.dot(P_A.T)\n",
      "    \n",
      "    # Formula 3\n",
      "    l, V = linalg.eig(cov(tildeX))\n",
      "    idx = argsort(l)\n",
      "    l = l[idx]\n",
      "    V = V[:,idx].T\n",
      "\n",
      "    l_total = sum(l)\n",
      "    l_sum = 0\n",
      "    for K,l_ in enumerate(l):\n",
      "        l_sum += l_\n",
      "        if l_sum / l_total >= 0.1:\n",
      "            break\n",
      "\n",
      "    V_K = V[:K,:]\n",
      "    \n",
      "    # Formula 4\n",
      "    S = V_K.dot(X)\n",
      "    \n",
      "    # Formula 8\n",
      "    tildeS = V_K.dot(tildeX)\n",
      "    \n",
      "    # Formula 6\n",
      "    def P(k, f):\n",
      "        return sum(S[k,:]*sin(2*pi*f*time))**2 + sum(S[k,:]*cos(2*pi*f*time))**2\n",
      "\n",
      "    # Formula 7\n",
      "    def sigma(k, f):\n",
      "        # This formula doesn't work for me\n",
      "        #ar, tilde_sigma, _ = spectrum.aryule(tildeS[k,:], 20)\n",
      "        #return (pi * X.shape[1] / 4.0) * tilde_sigma **2 / abs(1 - sum(ar * [exp(-2*pi*1j*(j+1)*f/float(sample_rate)) for j in range(20)]))\n",
      "        \n",
      "        # Use library implementation instead\n",
      "        p = spectrum.pyule(tildeS[k,:], 20)\n",
      "        p()\n",
      "        div = sample_rate / float(len(p.psd))\n",
      "        ind = round(f / div)\n",
      "        return mean(p.psd[ind-1:ind+2])\n",
      "            \n",
      "    # Formula 5\n",
      "    def Q(f):\n",
      "        res = 1 / float(K*(nharmonics + 1))\n",
      "        for k in range(K):\n",
      "            for h in range(nharmonics):\n",
      "                res += P(k, (h+1)*f) / sigma(k, (h+1)*f)\n",
      "        return res\n",
      "    \n",
      "    # Formula 9\n",
      "    return frequencies[argmax([Q(f) for f in frequencies])]"
     ],
     "language": "python",
     "metadata": {},
     "outputs": [],
     "prompt_number": 11
    },
    {
     "cell_type": "code",
     "collapsed": false,
     "input": [
      "print 'Murderer frequency: %d Hz.' % ssvep_classifier2(murder_EEG, [8, 10, 12, 15], 2)\n",
      "print 'Weapon frequency:   %d Hz.' % ssvep_classifier2(weapon_EEG, [8, 10, 12, 15], 2)\n",
      "print 'Room: frequency:    %d Hz.' % ssvep_classifier2(room_EEG, [8, 10, 12, 15], 2)"
     ],
     "language": "python",
     "metadata": {},
     "outputs": [
      {
       "output_type": "stream",
       "stream": "stdout",
       "text": [
        "Murderer frequency: 10 Hz.\n",
        "Weapon frequency:   15 Hz."
       ]
      },
      {
       "output_type": "stream",
       "stream": "stdout",
       "text": [
        "\n",
        "Room: frequency:    12 Hz."
       ]
      },
      {
       "output_type": "stream",
       "stream": "stdout",
       "text": [
        "\n"
       ]
      }
     ],
     "prompt_number": 12
    },
    {
     "cell_type": "code",
     "collapsed": false,
     "input": [
      "import psychic, golem\n",
      "reload(psychic.nodes.ssvep)\n",
      "reload(psychic.nodes.window)\n",
      "reload(psychic.nodes)\n",
      "reload(psychic)\n",
      "reload(golem.nodes.ica)\n",
      "reload(golem.nodes)\n",
      "reload(golem)"
     ],
     "language": "python",
     "metadata": {},
     "outputs": [
      {
       "output_type": "pyout",
       "prompt_number": 13,
       "text": [
        "<module 'golem' from 'C:\\users\\marijn\\golem\\golem\\__init__.pyc'>"
       ]
      }
     ],
     "prompt_number": 13
    },
    {
     "cell_type": "code",
     "collapsed": false,
     "input": [
      "import golem\n",
      "\n",
      "window_sizes = [4] #np.linspace(1, 10, 10)\n",
      "print window_sizes\n",
      "\n",
      "class SelectChannels(golem.nodes.BaseNode):\n",
      "    def __init__(self, channels):\n",
      "        golem.nodes.BaseNode.__init__(self)\n",
      "        self.channels = channels\n",
      "        \n",
      "    def apply_(self, d):\n",
      "        return d.ix[self.channels, :, :]\n",
      "\n",
      "Y = np.zeros((4, nsamples), dtype=bool)\n",
      "Y[1,:] = True\n",
      "d = golem.DataSet(X=murder_EEG, I=arange(nsamples)/sample_rate, Y=Y)\n",
      "\n",
      "Y = np.zeros((4, nsamples), dtype=bool)\n",
      "Y[3,:] = True\n",
      "d += golem.DataSet(X=weapon_EEG, I=arange(nsamples)/sample_rate + np.max(d.I) + 1, Y=Y)\n",
      "\n",
      "Y = np.zeros((4, nsamples), dtype=bool)\n",
      "Y[2,:] = True\n",
      "d += golem.DataSet(X=room_EEG, I=arange(nsamples)/sample_rate + + np.max(d.I) + 1, Y=Y)\n",
      "\n",
      "print d\n",
      "classifiers = {\n",
      "    'MNEC': psychic.nodes.MNEC(128, [8, 10, 12, 15]),\n",
      "    'CanonCorr': psychic.nodes.CanonCorr(128, [8, 10, 12, 15]),\n",
      "    'SLIC': psychic.nodes.SLIC(128, [8, 10, 12, 15]),\n",
      "    'CanonCorr-NR': golem.nodes.Chain([psychic.nodes.SSVEPNoiseReduce(128, [8, 10, 12, 15]), SelectChannels([0, 1, 2]), psychic.nodes.CanonCorr(128, [8, 10, 12, 15])]),\n",
      "    'SLIC-NR': golem.nodes.Chain([psychic.nodes.SSVEPNoiseReduce(128, [8, 10, 12, 15]), SelectChannels([0, 1, 2]), psychic.nodes.CanonCorr(128, [8, 10, 12, 15])]),\n",
      "    'SLIC-ICA': golem.nodes.Chain([golem.nodes.ICA(), psychic.nodes.SLIC(128, [8, 10, 12, 15])]),\n",
      "    'CanonCorr-ICA': golem.nodes.Chain([golem.nodes.ICA(), psychic.nodes.CanonCorr(128, [8, 10, 12, 15])]),\n",
      "}\n",
      "\n",
      "results = {}\n",
      "for name, cl in classifiers.items():\n",
      "    results[name] = []\n",
      "    for window_size in window_sizes:\n",
      "        d2 = psychic.nodes.SlidingWindow(int(window_size*sample_rate), int(window_size*sample_rate)).train_apply(d,d)\n",
      "        r = cl.train_apply(d2, d2)\n",
      "        results[name].append(golem.perf.accuracy(r))\n",
      "        "
     ],
     "language": "python",
     "metadata": {},
     "outputs": [
      {
       "output_type": "stream",
       "stream": "stdout",
       "text": [
        "[4]\n",
        "DataSet with 7680 instances, 14 features [14], 4 classes: [0, 2560, 2560, 2560], extras: []\n"
       ]
      }
     ],
     "prompt_number": 22
    },
    {
     "cell_type": "code",
     "collapsed": false,
     "input": [
      "figure()\n",
      "for name, r in results.items():\n",
      "    plot(window_sizes, r, '-x')\n",
      "legend(results.keys(), loc='best')\n",
      "ylim(0, 1.2)"
     ],
     "language": "python",
     "metadata": {},
     "outputs": [
      {
       "output_type": "pyout",
       "prompt_number": 20,
       "text": [
        "(0, 1.2)"
       ]
      }
     ],
     "prompt_number": 20
    },
    {
     "cell_type": "code",
     "collapsed": false,
     "input": [
      "print results"
     ],
     "language": "python",
     "metadata": {},
     "outputs": [
      {
       "output_type": "stream",
       "stream": "stdout",
       "text": [
        "{'SLIC': [0.73333333333333339], 'CanonCorr-ICA': [0.80000000000000004], 'CanonCorr-NR': [0.73333333333333339], 'CanonCorr': [0.80000000000000004], 'SLIC-ICA': [0.59999999999999998], 'SLIC-NR': [0.73333333333333339], 'MNEC': [0.73333333333333339]}\n"
       ]
      }
     ],
     "prompt_number": 24
    },
    {
     "cell_type": "code",
     "collapsed": false,
     "input": [],
     "language": "python",
     "metadata": {},
     "outputs": []
    }
   ],
   "metadata": {}
  }
 ]
}