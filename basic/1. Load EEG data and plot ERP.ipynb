{
 "metadata": {
  "name": "1. Load EEG data and plot ERP"
 },
 "nbformat": 3,
 "nbformat_minor": 0,
 "worksheets": [
  {
   "cells": [
    {
     "cell_type": "markdown",
     "metadata": {},
     "source": [
      "# Loading EEG data and plotting an ERP\n",
      "\n",
      "Welcome to this IPython notebook. This page is a live interface to a running Python instance, where we create 'cells'. A cell is either some text (which can include images and formulas) or code, in which case we can execute that code by pressing `shift+enter`. See the [notebook documentation](http://ipython.org/ipython-doc/stable/interactive/htmlnotebook.html) for an overview of the functionality of this environment.\n",
      "\n",
      "You should have invoked the ipython notebook environment using the `--pylab` flag, otherwise, the plots will not automatically be shown.\n",
      "\n",
      "I'm going to assume some basic knowledge about Python ([tutorial](http://docs.python.org/tutorial)), Numpy ([tutorial](http://www.scipy.org/Tentative_NumPy_Tutorial)) and Matplotlib ([tutorial](http://matplotlib.org/users/pyplot_tutorial.html))."
     ]
    },
    {
     "cell_type": "markdown",
     "metadata": {},
     "source": [
      "## The Magic Trick\n",
      "In this tutorial we will do some simple EEG data analysis in order to *'read'* a subjects mind. This experiment is playfully called the \"magic trick\". The subject was sitting in front of a screen and was presented with 9 playing cards:\n",
      "\n",
      "\t1: 'Ace of spades'\n",
      "    2: 'Jack of clubs'\n",
      "    3: 'Queen of hearts'\n",
      "    4: 'King of diamonds'\n",
      "    5: '10 of spaces'\n",
      "    6: '3 of clubs'\n",
      "    7: '10 of hearts'\n",
      "    8: '3 of diamonds'\n",
      "    9: 'King of spades'\n",
      "\n",
      "He picked one of these cards and kept it in his mind. Next, the 9 playing cards would flash one-by-one in a random order across the screen. Each card was presented a total of 30 times. The subject would mentally count the number of times his card would appear on the screen (which was 30 if he was paying attention, we are not interested in the answer he got, it just helps keep the subject focused on the cards).\n",
      "\n",
      "In this tutorial we will analyse the average response to each card. The card that the subject had in mind should produce a larger response than the others."
     ]
    },
    {
     "cell_type": "markdown",
     "metadata": {},
     "source": [
      "First off, let's download the data. I've created a public dropbox folder where I store it. Execute the code below by pressing `ctrl+enter`. It will take some time to run, depending on the speed of your internet connection.\n",
      "\n",
      "**NOTE:** The data used in this tutorial is EEG data that has been bandpass filtered with a 3rd order Butterworth filter with a passband of 0.5-30 Hz. This results in relatively clean looking data. When doing ERP analysis on other data, you will probably have to filter it yourself. Don't do ERP analysis on non-filtered, non-baselined data! Bandpass filtering is covered in the 3rd tutorial."
     ]
    },
    {
     "cell_type": "code",
     "collapsed": false,
     "input": [
      "import urllib\n",
      "urllib.urlretrieve('http://dl.dropbox.com/u/79303435/tutorial1-01.mat?dl=1', 'tutorial1-01.mat');"
     ],
     "language": "python",
     "metadata": {},
     "outputs": [],
     "prompt_number": 1
    },
    {
     "cell_type": "markdown",
     "metadata": {},
     "source": [
      "After the above code has finished running, we have a file `tutorial1-01.mat` in our current directory. It is stored in the default MATLAB format, which we can load by using the [SciPy](http://docs.scipy.org/doc/scipy/reference/index.html#) module: "
     ]
    },
    {
     "cell_type": "code",
     "collapsed": false,
     "input": [
      "import scipy.io\n",
      "m = scipy.io.loadmat('tutorial1-01.mat')\n",
      "print m.keys()"
     ],
     "language": "python",
     "metadata": {},
     "outputs": [
      {
       "output_type": "stream",
       "stream": "stdout",
       "text": [
        "['labels', 'EEG', '__version__', '__header__', '__globals__']\n"
       ]
      }
     ],
     "prompt_number": 2
    },
    {
     "cell_type": "markdown",
     "metadata": {},
     "source": [
      "The [`scipy.io.loadmat`](http://docs.scipy.org/doc/scipy/reference/generated/scipy.io.loadmat.html) function returns a [dictionary](http://docs.python.org/library/stdtypes.html#mapping-types-dict) containing the variables stored in the matlab file. Two of them are of interest to us, the actual `EEG` and the `labels` which indicate at which point in time which card was presented to the subject."
     ]
    },
    {
     "cell_type": "code",
     "collapsed": false,
     "input": [
      "EEG = m['EEG']\n",
      "labels = m['labels']\n",
      "\n",
      "print 'EEG dimensions:', EEG.shape\n",
      "print 'Label dimensions:', labels.shape"
     ],
     "language": "python",
     "metadata": {},
     "outputs": [
      {
       "output_type": "stream",
       "stream": "stdout",
       "text": [
        "EEG dimensions: (7, 288349)\n",
        "Label dimensions: (1, 288349)\n"
       ]
      }
     ],
     "prompt_number": 3
    },
    {
     "cell_type": "markdown",
     "metadata": {},
     "source": [
      "The `EEG` variable is a [Numpy Array](http://www.scipy.org/Tentative_NumPy_Tutorial) containing 7 rows that contain the signal collected from 7 electrodes. The `label` variable contains the output of our trigger cable, which was used to synchronize the EEG signal with what was happening on the screen. Every time we presented a card on the screen, we send a non-zero value through the trigger cable. The `labels` variable will therefore contain mostly zeros, but non-zero values at the moments in time we presented a card to the subject. Lets plot the raw EEG data:"
     ]
    },
    {
     "cell_type": "code",
     "collapsed": false,
     "input": [
      "plot(EEG.T)"
     ],
     "language": "python",
     "metadata": {},
     "outputs": [
      {
       "output_type": "pyout",
       "prompt_number": 4,
       "text": [
        "[<matplotlib.lines.Line2D at 0x5619990>,\n",
        " <matplotlib.lines.Line2D at 0x5619ab0>,\n",
        " <matplotlib.lines.Line2D at 0x5619af0>,\n",
        " <matplotlib.lines.Line2D at 0x5619c30>,\n",
        " <matplotlib.lines.Line2D at 0x5619d70>,\n",
        " <matplotlib.lines.Line2D at 0x5619eb0>,\n",
        " <matplotlib.lines.Line2D at 0x5619ff0>]"
       ]
      }
     ],
     "prompt_number": 4
    },
    {
     "cell_type": "markdown",
     "metadata": {},
     "source": [
      "All channels are drawn on top of each other, which is not convenient. Usually, EEG data is plotted with the channels horizontally stacked, an artefact stemming from the days where EEG machines drew on large rolls of paper. Lets add a constant value to each EEG channel before plotting them and some decoration like a meaningful x and y axis. I'll write this as a function, since this will come in handy later on:"
     ]
    },
    {
     "cell_type": "code",
     "collapsed": false,
     "input": [
      "from matplotlib.collections import LineCollection\n",
      "\n",
      "def plot_eeg(EEG, vspace=100, color='k'):\n",
      "    '''\n",
      "    Plot the EEG data, stacking the channels horizontally on top of each other.\n",
      "\n",
      "    Arguments:\n",
      "    EEG    - Array (channels x samples) containing the EEG data\n",
      "    vspace - Amount of vertical space to put between the channels (default 100)\n",
      "    color  - Color to draw the EEG in (default black)\n",
      "    '''\n",
      "    \n",
      "    bases = vspace * arange(7) # vspace * 0, vspace * 1, vspace * 2, ..., vspace * 6\n",
      "    \n",
      "    # To add the bases (a vector of length 7) to the EEG (a 2-D Matrix), we don't use\n",
      "    # loops, but rely on a NumPy feature called broadcasting:\n",
      "    # http://docs.scipy.org/doc/numpy/user/basics.broadcasting.html\n",
      "    EEG = EEG.T + bases\n",
      "    \n",
      "    # Calculate a timeline in seconds, knowing that the sample rate of the EEG recorder was 2048 Hz.\n",
      "    samplerate = 2048.\n",
      "    time = arange(EEG.shape[0]) / samplerate\n",
      "    \n",
      "    # Plot EEG versus time\n",
      "    plot(time, EEG, color=color)\n",
      "\n",
      "    # Add gridlines to the plot\n",
      "    grid()\n",
      "    \n",
      "    # Label the axes\n",
      "    xlabel('Time (s)')\n",
      "    ylabel('Channels')\n",
      "    \n",
      "    # The y-ticks are set to the locations of the electrodes. The international 10-20 system defines\n",
      "    # default names for them.\n",
      "    gca().yaxis.set_ticks(bases)\n",
      "    gca().yaxis.set_ticklabels(['Fz', 'Cz', 'Pz', 'CP1', 'CP3', 'C3', 'C4'])\n",
      "    \n",
      "    # Put a nice title on top of the plot\n",
      "    title('EEG data')\n",
      "\n",
      "# Testing our function\n",
      "figure()\n",
      "plot_eeg(EEG)"
     ],
     "language": "python",
     "metadata": {},
     "outputs": [],
     "prompt_number": 5
    },
    {
     "cell_type": "markdown",
     "metadata": {},
     "source": [
      "And to top it off, lets add vertical lines whenever a card was shown to the subject: "
     ]
    },
    {
     "cell_type": "code",
     "collapsed": false,
     "input": [
      "for onset in flatnonzero(labels):\n",
      "    axvline(onset / 2048., color='r')"
     ],
     "language": "python",
     "metadata": {},
     "outputs": [],
     "prompt_number": 7
    },
    {
     "cell_type": "markdown",
     "metadata": {},
     "source": [
      "As you can see, cards were shown at a rate of 2 per second. \n",
      "\n",
      "We are interested in the response generated whenever a card was shown, so we cut one-second-long pieces of EEG signal that start from the moment a card was shown. These pieces will be named 'trials'.\n",
      "\n",
      "A useful function here is [`flatnonzero`](http://docs.scipy.org/doc/numpy/reference/generated/numpy.flatnonzero.html) which returns all the indices of an array which contain to a non-zero value. It effectively gives us the time (as an index) when a card was shown, if we use it in a clever way:"
     ]
    },
    {
     "cell_type": "code",
     "collapsed": false,
     "input": [
      "onsets = flatnonzero(labels == 4)\n",
      "\n",
      "print onsets\n",
      "print 'Number of onsets:', len(onsets)"
     ],
     "language": "python",
     "metadata": {},
     "outputs": [
      {
       "output_type": "stream",
       "stream": "stdout",
       "text": [
        "[ 15958  24150  26198  39510  47702  54870  63062  80470  82518  97877\n",
        "  99925 110165 122453 128597 141909 147029 156279 169591 180855 191095\n",
        " 195191 207479 216694 221814 230006 243318 251510 264822 268918 281206]\n",
        "Number of onsets: 30\n"
       ]
      }
     ],
     "prompt_number": 8
    },
    {
     "cell_type": "markdown",
     "metadata": {},
     "source": [
      "Each of the 9 cards was shown 30 times. Lets create a 4-dimensional array containing all the trials:"
     ]
    },
    {
     "cell_type": "code",
     "collapsed": false,
     "input": [
      "nclasses = 9 # 9 playing cards\n",
      "ntrials = 30 # each card was shown 30 times\n",
      "nchannels = 7 # 7 EEG channels\n",
      "sample_rate = 2048. # The sample rate of the EEG recording device was 2048Hz\n",
      "nsamples = 1.0*sample_rate # one second's worth of data samples\n",
      "\n",
      "trials = zeros((nclasses, ntrials, nchannels, nsamples))\n",
      "for card in range(nclasses):\n",
      "    onsets = flatnonzero(labels == (card+1))\n",
      "    onsets = onsets.astype(int) # we will use them as index to the EEG matrix, so they must be integer values\n",
      "    for trial, onset in enumerate(onsets):\n",
      "        trials[card, trial, :, :] = EEG[:, onset:onset+nsamples]\n",
      "        \n",
      "print trials.shape"
     ],
     "language": "python",
     "metadata": {},
     "outputs": [
      {
       "output_type": "stream",
       "stream": "stdout",
       "text": [
        "(9, 30, 7, 2048)\n"
       ]
      }
     ],
     "prompt_number": 9
    },
    {
     "cell_type": "markdown",
     "metadata": {},
     "source": [
      "Lets plot one of the trials:"
     ]
    },
    {
     "cell_type": "code",
     "collapsed": false,
     "input": [
      "figure()\n",
      "plot_eeg(trials[0,0,:,:], vspace=30)"
     ],
     "language": "python",
     "metadata": {},
     "outputs": [],
     "prompt_number": 10
    },
    {
     "cell_type": "markdown",
     "metadata": {},
     "source": [
      "Looking at the individual trials is not all that informative. Lets calculate the average response to each card and plot that:"
     ]
    },
    {
     "cell_type": "code",
     "collapsed": false,
     "input": [
      "erp = mean(trials, axis=1) # such an average is called an ERP in the literature\n",
      "\n",
      "# Lets give each response a different color\n",
      "colors = ['k', 'b', 'g', 'y', 'm', 'r', 'c', '#ffff00', '#aaaaaa']\n",
      "\n",
      "figure(figsize=(4,8))\n",
      "for i in range(nclasses):\n",
      "    plot_eeg(erp[i,:,:], vspace=20, color=colors[i])"
     ],
     "language": "python",
     "metadata": {},
     "outputs": [],
     "prompt_number": 11
    },
    {
     "cell_type": "markdown",
     "metadata": {},
     "source": [
      "One of the cards jumps out: the one corresponding to the green line. You can see it most clearly at channel Cz around 0.4 seconds. This line corresponds the the 3rd card which turns out to be the queen of hearts."
     ]
    }
   ],
   "metadata": {}
  }
 ]
}