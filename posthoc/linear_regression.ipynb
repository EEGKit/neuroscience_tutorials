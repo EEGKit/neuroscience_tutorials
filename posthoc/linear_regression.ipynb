{
 "cells": [
  {
   "cell_type": "markdown",
   "metadata": {
    "slideshow": {
     "slide_type": "slide"
    }
   },
   "source": [
    "Marijn van Vliet\n",
    "# Using domain knowledge in machine learning models\n",
    "a deep dive into linear regression"
   ]
  },
  {
   "cell_type": "markdown",
   "metadata": {
    "slideshow": {
     "slide_type": "slide"
    }
   },
   "source": [
    "# Loading the data"
   ]
  },
  {
   "cell_type": "code",
   "execution_count": null,
   "metadata": {
    "slideshow": {
     "slide_type": "-"
    }
   },
   "outputs": [],
   "source": [
    "# Some housekeeping before we get started\n",
    "%matplotlib notebook\n",
    "import mne\n",
    "mne.set_log_level(False)"
   ]
  },
  {
   "cell_type": "code",
   "execution_count": null,
   "metadata": {
    "slideshow": {
     "slide_type": "-"
    }
   },
   "outputs": [],
   "source": [
    "# Load the EEG data\n",
    "epochs = mne.read_epochs('subject04-epo.fif')\n",
    "epochs.metadata"
   ]
  },
  {
   "cell_type": "markdown",
   "metadata": {
    "slideshow": {
     "slide_type": "slide"
    }
   },
   "source": [
    "# Epochs: snippets of EEG data"
   ]
  },
  {
   "cell_type": "code",
   "execution_count": null,
   "metadata": {
    "slideshow": {
     "slide_type": "-"
    }
   },
   "outputs": [],
   "source": [
    "epochs.plot(n_channels=32, n_epochs=10)"
   ]
  },
  {
   "cell_type": "markdown",
   "metadata": {
    "slideshow": {
     "slide_type": "slide"
    }
   },
   "source": [
    "# Evoked: averaging across epochs"
   ]
  },
  {
   "cell_type": "code",
   "execution_count": null,
   "metadata": {
    "slideshow": {
     "slide_type": "-"
    }
   },
   "outputs": [],
   "source": [
    "unrelated = epochs['FAS < 0.1'].average()\n",
    "related = epochs['FAS > 0.1'].average()\n",
    "mne.viz.plot_evoked_topo([related, unrelated])"
   ]
  },
  {
   "cell_type": "markdown",
   "metadata": {
    "slideshow": {
     "slide_type": "slide"
    }
   },
   "source": [
    "# Challenge:\n",
    "## Deduce the memory priming effect for a word-pair, given the EEG epoch"
   ]
  },
  {
   "cell_type": "markdown",
   "metadata": {
    "slideshow": {
     "slide_type": "slide"
    }
   },
   "source": [
    "# Naive approach: average signal in ROI"
   ]
  },
  {
   "cell_type": "code",
   "execution_count": null,
   "metadata": {
    "slideshow": {
     "slide_type": "-"
    }
   },
   "outputs": [],
   "source": [
    "ROI = epochs.copy()\n",
    "ROI.pick_channels(['P3', 'Pz', 'P4'])\n",
    "ROI.crop(0.3, 0.47)\n",
    "\n",
    "FAS_pred = ROI.get_data().mean(axis=(1, 2))"
   ]
  },
  {
   "cell_type": "code",
   "execution_count": null,
   "metadata": {},
   "outputs": [],
   "source": [
    "from scipy.stats import pearsonr\n",
    "print('Performance: %.2f' % pearsonr(epochs.metadata['FAS'], FAS_pred)[0])"
   ]
  },
  {
   "cell_type": "markdown",
   "metadata": {
    "slideshow": {
     "slide_type": "slide"
    }
   },
   "source": [
    "# Machine learning approach: linear regression"
   ]
  },
  {
   "cell_type": "code",
   "execution_count": null,
   "metadata": {
    "slideshow": {
     "slide_type": "-"
    }
   },
   "outputs": [],
   "source": [
    "print(epochs.get_data().shape)"
   ]
  },
  {
   "cell_type": "code",
   "execution_count": null,
   "metadata": {},
   "outputs": [],
   "source": [
    "X = epochs.get_data().reshape(200, 32 * 60)\n",
    "y = epochs.metadata['FAS'].values\n",
    "\n",
    "from sklearn.preprocessing import normalize\n",
    "X = normalize(X)\n",
    "\n",
    "print('X:', X.shape)\n",
    "print('y:', y.shape)"
   ]
  },
  {
   "cell_type": "markdown",
   "metadata": {
    "slideshow": {
     "slide_type": "slide"
    }
   },
   "source": [
    "# Performing linear regression"
   ]
  },
  {
   "cell_type": "code",
   "execution_count": null,
   "metadata": {
    "slideshow": {
     "slide_type": "-"
    }
   },
   "outputs": [],
   "source": [
    "from sklearn.linear_model import LinearRegression\n",
    "\n",
    "model = LinearRegression().fit(X, y)\n",
    "\n",
    "FAS_pred = model.predict(X)\n",
    "print('Performance: %.2f (to beat: 0.30)' % pearsonr(epochs.metadata['FAS'], FAS_pred)[0])"
   ]
  },
  {
   "cell_type": "code",
   "execution_count": null,
   "metadata": {},
   "outputs": [],
   "source": [
    "from sklearn.model_selection import cross_val_predict\n",
    "\n",
    "FAS_pred = cross_val_predict(model, X, y, cv=10)\n",
    "print('Performance: %.2f (to beat: 0.30)' % pearsonr(epochs.metadata['FAS'], FAS_pred)[0])"
   ]
  },
  {
   "cell_type": "markdown",
   "metadata": {
    "slideshow": {
     "slide_type": "slide"
    }
   },
   "source": [
    "# Inspecting the weights"
   ]
  },
  {
   "cell_type": "code",
   "execution_count": null,
   "metadata": {
    "slideshow": {
     "slide_type": "-"
    }
   },
   "outputs": [],
   "source": [
    "model.fit(X, y)\n",
    "weights = model.coef_.reshape(32, 60)"
   ]
  },
  {
   "cell_type": "code",
   "execution_count": null,
   "metadata": {},
   "outputs": [],
   "source": [
    "ev = mne.EvokedArray(weights, epochs.info, tmin=epochs.times[0], comment='weights')\n",
    "ev.plot_topo()"
   ]
  },
  {
   "cell_type": "markdown",
   "metadata": {
    "slideshow": {
     "slide_type": "fragment"
    }
   },
   "source": [
    "What's going on here?\n",
    "https://users.aalto.fi/~vanvlm1/posthoc/regression.html"
   ]
  },
  {
   "cell_type": "markdown",
   "metadata": {
    "slideshow": {
     "slide_type": "slide"
    }
   },
   "source": [
    "# The post-hoc framework\n",
    "\n",
    " 1. Data covariance matrix\n",
    " 2. Haufe pattern matrix\n",
    " 3. Normalizer"
   ]
  },
  {
   "cell_type": "code",
   "execution_count": null,
   "metadata": {},
   "outputs": [],
   "source": [
    "from posthoc import Workbench\n",
    "\n",
    "model = Workbench(LinearRegression())\n",
    "model.fit(X, y)\n",
    "\n",
    "cov_X = X.T @ X\n",
    "pattern = model.pattern_\n",
    "normalizer = model.normalizer_"
   ]
  },
  {
   "cell_type": "markdown",
   "metadata": {
    "slideshow": {
     "slide_type": "slide"
    }
   },
   "source": [
    "# The data covariance"
   ]
  },
  {
   "cell_type": "code",
   "execution_count": null,
   "metadata": {},
   "outputs": [],
   "source": [
    "from matplotlib import pyplot as plt\n",
    "\n",
    "plt.matshow(cov_X, cmap='magma')\n",
    "\n",
    "# Show channel names\n",
    "plt.xticks(range(0, 32 * 60, 60), epochs.ch_names, rotation=90)\n",
    "plt.yticks(range(0, 32 * 60, 60), epochs.ch_names)\n",
    "\n",
    "plt.gcf()"
   ]
  },
  {
   "cell_type": "markdown",
   "metadata": {
    "slideshow": {
     "slide_type": "slide"
    }
   },
   "source": [
    "# Shrinking the covariance"
   ]
  },
  {
   "cell_type": "code",
   "execution_count": null,
   "metadata": {
    "slideshow": {
     "slide_type": "-"
    }
   },
   "outputs": [],
   "source": [
    "# Amount of shrinkage\n",
    "alpha = 0.75\n",
    "\n",
    "# Shrinkage formula\n",
    "shrinkage_target = np.identity(32 * 60) * np.trace(cov_X) / len(cov_X)\n",
    "cov_X_mod = alpha * shrinkage_target + (1 - alpha) * cov_X\n",
    "\n",
    "# Plot shrunk covariance\n",
    "plt.matshow(cov_X_mod, cmap='magma')\n",
    "plt.xticks(range(0, 32 * 60, 60), epochs.ch_names, rotation=90)\n",
    "plt.yticks(range(0, 32 * 60, 60), epochs.ch_names)\n",
    "plt.gcf()"
   ]
  },
  {
   "cell_type": "markdown",
   "metadata": {
    "slideshow": {
     "slide_type": "slide"
    }
   },
   "source": [
    "# Post-hoc modification of the model"
   ]
  },
  {
   "cell_type": "code",
   "execution_count": null,
   "metadata": {},
   "outputs": [],
   "source": [
    "from posthoc.cov_estimators import ShrinkageKernel\n",
    "\n",
    "model = Workbench(LinearRegression(), cov=ShrinkageKernel(alpha=0.97))\n",
    "\n",
    "FAS_pred = cross_val_predict(model, X, y, cv=10)\n",
    "print('Performance: %.2f (to beat: 0.30)' % pearsonr(epochs.metadata['FAS'], FAS_pred)[0])"
   ]
  },
  {
   "cell_type": "markdown",
   "metadata": {
    "slideshow": {
     "slide_type": "slide"
    }
   },
   "source": [
    "# The pattern matrix"
   ]
  },
  {
   "cell_type": "code",
   "execution_count": null,
   "metadata": {},
   "outputs": [],
   "source": [
    "pattern = mne.EvokedArray(pattern.reshape(32, 60), epochs.info, epochs.times[0], comment='pattern')\n",
    "pattern.plot_topo()"
   ]
  },
  {
   "cell_type": "markdown",
   "metadata": {
    "slideshow": {
     "slide_type": "slide"
    }
   },
   "source": [
    "# Modifying the pattern matrix\n",
    "<img src=\"kernel.png\" width=\"400\">"
   ]
  },
  {
   "cell_type": "code",
   "execution_count": null,
   "metadata": {},
   "outputs": [],
   "source": [
    "import numpy as np\n",
    "\n",
    "def pattern_modifier(pattern, X_train=None, y_train=None, mu=0.36, sigma=0.06):\n",
    "    pattern = pattern.reshape(32, 60)\n",
    "    \n",
    "    #mu = 0.4\n",
    "    #sigma = 0.1\n",
    "    \n",
    "    # Define mu and sigma in samples\n",
    "    mu = np.searchsorted(epochs.times, mu)\n",
    "    sigma = sigma  * epochs.info['sfreq']\n",
    "    \n",
    "    # Formula for Gaussian curve\n",
    "    kernel = np.exp(-0.5 * ((np.arange(60) - mu) / sigma) ** 2)\n",
    "    \n",
    "    return (pattern * kernel).ravel()"
   ]
  },
  {
   "cell_type": "code",
   "execution_count": null,
   "metadata": {},
   "outputs": [],
   "source": [
    "pattern_mod = pattern_modifier(pattern)\n",
    "pattern_mod = mne.EvokedArray(pattern_mod.reshape(32, 60), epochs.info, epochs.times[0], comment='pattern')\n",
    "pattern_mod.plot_topo()"
   ]
  },
  {
   "cell_type": "markdown",
   "metadata": {
    "slideshow": {
     "slide_type": "slide"
    }
   },
   "source": [
    "# Post-hoc modifying the pattern in the model"
   ]
  },
  {
   "cell_type": "code",
   "execution_count": null,
   "metadata": {},
   "outputs": [],
   "source": [
    "model = Workbench(LinearRegression(), cov=ShrinkageKernel(0.97), pattern_modifier=pattern_modifier)\n",
    "FAS_pred = cross_val_predict(model, X, y, cv=10)\n",
    "\n",
    "print('Performance: %.2f (to beat: 0.30, 0.35)' % pearsonr(epochs.metadata['FAS'], FAS_pred)[0])"
   ]
  },
  {
   "cell_type": "markdown",
   "metadata": {
    "slideshow": {
     "slide_type": "slide"
    }
   },
   "source": [
    "To find out more, read the paper!\n",
    "\n",
    "https://www.biorxiv.org/content/10.1101/518662v2\n",
    "\n",
    "Marijn van Vliet & Riitta Salmelin  \n",
    "**Post-hoc modification of linear models: combining machine learning with domain information to make solid inferences from noisy data**  \n",
    "NeuroImage (in press.)\n",
    "\n",
    "\n",
    "For more interactive neuroscience tutorials:  \n",
    "https://github.com/wmvanvliet/neuroscience_tutorials"
   ]
  },
  {
   "cell_type": "markdown",
   "metadata": {
    "slideshow": {
     "slide_type": "slide"
    }
   },
   "source": [
    "# The normalizer"
   ]
  },
  {
   "cell_type": "code",
   "execution_count": null,
   "metadata": {},
   "outputs": [],
   "source": [
    "print(normalizer)"
   ]
  },
  {
   "cell_type": "markdown",
   "metadata": {
    "slideshow": {
     "slide_type": "slide"
    }
   },
   "source": [
    "# Automatic optimization"
   ]
  },
  {
   "cell_type": "code",
   "execution_count": null,
   "metadata": {},
   "outputs": [],
   "source": [
    "from posthoc import WorkbenchOptimizer\n",
    "model = WorkbenchOptimizer(LinearRegression(), cov=ShrinkageKernel(0.95),\n",
    "                           pattern_modifier=pattern_modifier, pattern_param_x0=[0.4, 0.05], pattern_param_bounds=[(0, 0.8), (0.01, 0.5)],\n",
    "                           scoring=scorer)\n",
    "model.fit(X, y)"
   ]
  }
 ],
 "metadata": {
  "celltoolbar": "Slideshow",
  "kernelspec": {
   "display_name": "Python 3",
   "language": "python",
   "name": "python3"
  },
  "language_info": {
   "codemirror_mode": {
    "name": "ipython",
    "version": 3
   },
   "file_extension": ".py",
   "mimetype": "text/x-python",
   "name": "python",
   "nbconvert_exporter": "python",
   "pygments_lexer": "ipython3",
   "version": "3.7.3"
  }
 },
 "nbformat": 4,
 "nbformat_minor": 2
}
