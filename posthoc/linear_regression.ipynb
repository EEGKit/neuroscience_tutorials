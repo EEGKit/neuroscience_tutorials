{
 "cells": [
  {
   "cell_type": "code",
   "execution_count": 1,
   "metadata": {
    "slideshow": {
     "slide_type": "-"
    }
   },
   "outputs": [],
   "source": [
    "# Some housekeeping before we get started\n",
    "%matplotlib qt\n",
    "import mne\n",
    "mne.set_log_level(False)"
   ]
  },
  {
   "cell_type": "markdown",
   "metadata": {
    "slideshow": {
     "slide_type": "slide"
    }
   },
   "source": [
    "<a href=\"https://mybinder.org/v2/gh/wmvanvliet/neuroscience_tutorials/master?filepath=posthoc%2Flinear_regression.ipynb\" target=\"_new\"  style=\"float: right\"><img src=\"qr.png\" alt=\"https://mybinder.org/v2/gh/wmvanvliet/neuroscience_tutorials/master?filepath=posthoc%2Flinear_regression.ipynb\"></a>\n",
    "\n",
    "Marijn van Vliet\n",
    "# A deep dive into linear models\n",
    "\n",
    "tiny.cc/deepdive"
   ]
  },
  {
   "cell_type": "markdown",
   "metadata": {
    "slideshow": {
     "slide_type": "slide"
    }
   },
   "source": [
    "# Loading the data"
   ]
  },
  {
   "cell_type": "code",
   "execution_count": null,
   "metadata": {
    "slideshow": {
     "slide_type": "-"
    }
   },
   "outputs": [],
   "source": [
    "import mne\n",
    "epochs = mne.read_epochs('subject04-epo.fif')\n",
    "epochs.metadata"
   ]
  },
  {
   "cell_type": "markdown",
   "metadata": {
    "slideshow": {
     "slide_type": "slide"
    }
   },
   "source": [
    "# Epochs: snippets of EEG data"
   ]
  },
  {
   "cell_type": "code",
   "execution_count": null,
   "metadata": {
    "slideshow": {
     "slide_type": "-"
    }
   },
   "outputs": [],
   "source": [
    "epochs.plot(n_channels=32, n_epochs=10);"
   ]
  },
  {
   "cell_type": "markdown",
   "metadata": {
    "slideshow": {
     "slide_type": "slide"
    }
   },
   "source": [
    "# Evoked: averaging across epochs"
   ]
  },
  {
   "cell_type": "code",
   "execution_count": null,
   "metadata": {
    "slideshow": {
     "slide_type": "-"
    }
   },
   "outputs": [],
   "source": [
    "unrelated = epochs['FAS < 0.1'].average()\n",
    "related = epochs['FAS > 0.1'].average()\n",
    "mne.viz.plot_evoked_topo([related, unrelated]);"
   ]
  },
  {
   "cell_type": "markdown",
   "metadata": {
    "slideshow": {
     "slide_type": "slide"
    }
   },
   "source": [
    "# Challenge:\n",
    "## Deduce the memory priming effect for a word-pair, given the EEG epoch"
   ]
  },
  {
   "cell_type": "markdown",
   "metadata": {
    "slideshow": {
     "slide_type": "slide"
    }
   },
   "source": [
    "# Naive approach: average signal in ROI"
   ]
  },
  {
   "cell_type": "code",
   "execution_count": null,
   "metadata": {
    "slideshow": {
     "slide_type": "-"
    }
   },
   "outputs": [],
   "source": [
    "ROI = epochs.copy()\n",
    "ROI.pick_channels(['P3', 'Pz', 'P4'])\n",
    "ROI.crop(0.3, 0.47)\n",
    "\n",
    "FAS_pred = ROI.get_data().mean(axis=(1, 2))"
   ]
  },
  {
   "cell_type": "code",
   "execution_count": null,
   "metadata": {},
   "outputs": [],
   "source": [
    "from scipy.stats import pearsonr\n",
    "print('Performance: %.2f' % pearsonr(epochs.metadata['FAS'], FAS_pred)[0])"
   ]
  },
  {
   "cell_type": "markdown",
   "metadata": {
    "slideshow": {
     "slide_type": "slide"
    }
   },
   "source": [
    "# Machine learning approach: linear regression"
   ]
  },
  {
   "cell_type": "code",
   "execution_count": null,
   "metadata": {
    "slideshow": {
     "slide_type": "-"
    }
   },
   "outputs": [],
   "source": [
    "print(epochs.get_data().shape)"
   ]
  },
  {
   "cell_type": "code",
   "execution_count": null,
   "metadata": {},
   "outputs": [],
   "source": [
    "X = epochs.get_data().reshape(200, 32 * 60)\n",
    "y = epochs.metadata['FAS'].values\n",
    "\n",
    "from sklearn.preprocessing import normalize\n",
    "X = normalize(X)\n",
    "\n",
    "print('X:', X.shape)\n",
    "print('y:', y.shape)"
   ]
  },
  {
   "cell_type": "markdown",
   "metadata": {
    "slideshow": {
     "slide_type": "slide"
    }
   },
   "source": [
    "# Performing linear regression"
   ]
  },
  {
   "cell_type": "code",
   "execution_count": null,
   "metadata": {
    "slideshow": {
     "slide_type": "-"
    }
   },
   "outputs": [],
   "source": [
    "from sklearn.linear_model import LinearRegression\n",
    "\n",
    "model = LinearRegression().fit(X, y)\n",
    "\n",
    "FAS_pred = model.predict(X)\n",
    "print('Performance: %.2f (to beat: 0.30)' % pearsonr(epochs.metadata['FAS'], FAS_pred)[0])"
   ]
  },
  {
   "cell_type": "code",
   "execution_count": null,
   "metadata": {},
   "outputs": [],
   "source": [
    "from sklearn.model_selection import cross_val_predict\n",
    "\n",
    "FAS_pred = cross_val_predict(model, X, y, cv=10)\n",
    "print('Performance: %.2f (to beat: 0.30)' % pearsonr(epochs.metadata['FAS'], FAS_pred)[0])"
   ]
  },
  {
   "cell_type": "markdown",
   "metadata": {
    "slideshow": {
     "slide_type": "slide"
    }
   },
   "source": [
    "# Inspecting the weights"
   ]
  },
  {
   "cell_type": "code",
   "execution_count": null,
   "metadata": {
    "slideshow": {
     "slide_type": "-"
    }
   },
   "outputs": [],
   "source": [
    "model.fit(X, y)\n",
    "weights = model.coef_.reshape(32, 60)"
   ]
  },
  {
   "cell_type": "code",
   "execution_count": null,
   "metadata": {},
   "outputs": [],
   "source": [
    "ev = mne.EvokedArray(weights, epochs.info, tmin=epochs.times[0], comment='weights')\n",
    "ev.plot_topo();"
   ]
  },
  {
   "cell_type": "markdown",
   "metadata": {
    "slideshow": {
     "slide_type": "fragment"
    }
   },
   "source": [
    "What's going on here?\n",
    "https://users.aalto.fi/~vanvlm1/posthoc/regression.html"
   ]
  },
  {
   "cell_type": "markdown",
   "metadata": {
    "slideshow": {
     "slide_type": "slide"
    }
   },
   "source": [
    "# The post-hoc framework\n",
    "\n",
    " 1. Data covariance matrix\n",
    " 2. Haufe pattern matrix\n",
    " 3. Normalizer"
   ]
  },
  {
   "cell_type": "code",
   "execution_count": null,
   "metadata": {},
   "outputs": [],
   "source": [
    "from posthoc import Workbench\n",
    "\n",
    "model = Workbench(LinearRegression())\n",
    "model.fit(X, y)\n",
    "\n",
    "cov_X = X.T @ X / len(X)\n",
    "pattern = model.pattern_\n",
    "normalizer = model.normalizer_"
   ]
  },
  {
   "cell_type": "markdown",
   "metadata": {
    "slideshow": {
     "slide_type": "slide"
    }
   },
   "source": [
    "# The data covariance"
   ]
  },
  {
   "cell_type": "code",
   "execution_count": null,
   "metadata": {},
   "outputs": [],
   "source": [
    "from matplotlib import pyplot as plt\n",
    "\n",
    "plt.matshow(cov_X, cmap='magma')\n",
    "\n",
    "# Show channel names\n",
    "plt.xticks(range(0, 32 * 60, 60), epochs.ch_names, rotation=90)\n",
    "plt.yticks(range(0, 32 * 60, 60), epochs.ch_names);"
   ]
  },
  {
   "cell_type": "markdown",
   "metadata": {
    "slideshow": {
     "slide_type": "slide"
    }
   },
   "source": [
    "# Shrinking the covariance"
   ]
  },
  {
   "cell_type": "code",
   "execution_count": null,
   "metadata": {
    "slideshow": {
     "slide_type": "-"
    }
   },
   "outputs": [],
   "source": [
    "import numpy as np\n",
    "\n",
    "# Amount of shrinkage\n",
    "alpha = 0.75\n",
    "\n",
    "# Shrinkage formula\n",
    "shrinkage_target = np.identity(32 * 60) * np.trace(cov_X) / len(cov_X)\n",
    "cov_X_mod = alpha * shrinkage_target + (1 - alpha) * cov_X\n",
    "\n",
    "# Plot shrunk covariance\n",
    "plt.matshow(cov_X_mod, cmap='magma')\n",
    "plt.xticks(range(0, 32 * 60, 60), epochs.ch_names, rotation=90)\n",
    "plt.yticks(range(0, 32 * 60, 60), epochs.ch_names);"
   ]
  },
  {
   "cell_type": "markdown",
   "metadata": {
    "slideshow": {
     "slide_type": "slide"
    }
   },
   "source": [
    "# Post-hoc modification of the model"
   ]
  },
  {
   "cell_type": "code",
   "execution_count": null,
   "metadata": {},
   "outputs": [],
   "source": [
    "from posthoc.cov_estimators import ShrinkageKernel\n",
    "\n",
    "model = Workbench(LinearRegression(), cov=ShrinkageKernel(alpha=0.97))\n",
    "\n",
    "FAS_pred = cross_val_predict(model, X, y, cv=10)\n",
    "print('Performance: %.2f (to beat: 0.30)' % pearsonr(epochs.metadata['FAS'], FAS_pred)[0])"
   ]
  },
  {
   "cell_type": "markdown",
   "metadata": {
    "slideshow": {
     "slide_type": "slide"
    }
   },
   "source": [
    "# The pattern matrix"
   ]
  },
  {
   "cell_type": "code",
   "execution_count": null,
   "metadata": {},
   "outputs": [],
   "source": [
    "pattern_ev = mne.EvokedArray(pattern.reshape(32, 60), epochs.info, epochs.times[0], comment='pattern')\n",
    "pattern_ev.plot_topo();"
   ]
  },
  {
   "cell_type": "markdown",
   "metadata": {
    "slideshow": {
     "slide_type": "slide"
    }
   },
   "source": [
    "# Modifying the pattern matrix\n",
    "<img src=\"kernel.png\" width=\"400\">"
   ]
  },
  {
   "cell_type": "code",
   "execution_count": null,
   "metadata": {
    "slideshow": {
     "slide_type": "subslide"
    }
   },
   "outputs": [],
   "source": [
    "import numpy as np\n",
    "\n",
    "def pattern_modifier(pattern, X_train=None, y_train=None, mu=0.36, sigma=0.06):\n",
    "    pattern = pattern.reshape(32, 60)\n",
    "    \n",
    "    # Define mu and sigma in samples\n",
    "    mu = np.searchsorted(epochs.times, mu)\n",
    "    sigma = sigma  * epochs.info['sfreq']\n",
    "    \n",
    "    # Formula for Gaussian curve\n",
    "    kernel = np.exp(-0.5 * ((np.arange(60) - mu) / sigma) ** 2)\n",
    "    \n",
    "    return (pattern * kernel).ravel()"
   ]
  },
  {
   "cell_type": "code",
   "execution_count": null,
   "metadata": {},
   "outputs": [],
   "source": [
    "pattern_mod = pattern_modifier(pattern)\n",
    "pattern_mod = mne.EvokedArray(pattern_mod.reshape(32, 60), epochs.info, epochs.times[0], comment='pattern')\n",
    "pattern_mod.plot_topo();"
   ]
  },
  {
   "cell_type": "markdown",
   "metadata": {
    "slideshow": {
     "slide_type": "slide"
    }
   },
   "source": [
    "# Post-hoc modifying the pattern in the model"
   ]
  },
  {
   "cell_type": "code",
   "execution_count": null,
   "metadata": {},
   "outputs": [],
   "source": [
    "model = Workbench(LinearRegression(), cov=ShrinkageKernel(0.97), pattern_modifier=pattern_modifier)\n",
    "FAS_pred = cross_val_predict(model, X, y, cv=10)\n",
    "\n",
    "print('Performance: %.2f (to beat: 0.30, 0.35)' % pearsonr(epochs.metadata['FAS'], FAS_pred)[0])"
   ]
  },
  {
   "cell_type": "markdown",
   "metadata": {
    "slideshow": {
     "slide_type": "slide"
    }
   },
   "source": [
    "To find out more, read the paper!\n",
    "\n",
    "https://www.biorxiv.org/content/10.1101/518662v2\n",
    "\n",
    "Marijn van Vliet & Riitta Salmelin  \n",
    "**Post-hoc modification of linear models: combining machine learning with domain information to make solid inferences from noisy data**  \n",
    "NeuroImage (2020)\n",
    "\n",
    "\n",
    "For more interactive neuroscience tutorials:  \n",
    "https://github.com/wmvanvliet/neuroscience_tutorials"
   ]
  },
  {
   "cell_type": "markdown",
   "metadata": {
    "slideshow": {
     "slide_type": "slide"
    }
   },
   "source": [
    "# The normalizer"
   ]
  },
  {
   "cell_type": "code",
   "execution_count": null,
   "metadata": {},
   "outputs": [],
   "source": [
    "print(normalizer)"
   ]
  },
  {
   "cell_type": "markdown",
   "metadata": {
    "slideshow": {
     "slide_type": "slide"
    }
   },
   "source": [
    "# Automatic optimization"
   ]
  },
  {
   "cell_type": "code",
   "execution_count": null,
   "metadata": {},
   "outputs": [],
   "source": [
    "def scorer(model, X, y):\n",
    "    return pearsonr(model.predict(X), y)[0]\n",
    "\n",
    "from posthoc import WorkbenchOptimizer\n",
    "model = WorkbenchOptimizer(LinearRegression(), cov=ShrinkageKernel(0.95),\n",
    "                           pattern_modifier=pattern_modifier, pattern_param_x0=[0.4, 0.05], pattern_param_bounds=[(0, 0.8), (0.01, 0.5)],\n",
    "                           scoring=scorer)\n",
    "model.fit(X, y)\n",
    "\n",
    "print('Optimal parameters: alpha=%.3f, mu=%.3f, sigma=%.3f'\n",
    "      % tuple(model.cov_params_ + model.pattern_modifier_params_))"
   ]
  },
  {
   "cell_type": "markdown",
   "metadata": {
    "slideshow": {
     "slide_type": "slide"
    }
   },
   "source": [
    "# Feature selection vs. Pattern modification"
   ]
  },
  {
   "cell_type": "code",
   "execution_count": null,
   "metadata": {},
   "outputs": [],
   "source": [
    "import numpy as np\n",
    "\n",
    "def modify_X(X, X_train=None, y_train=None, mu=0.36, sigma=0.06):\n",
    "    X = X.reshape(200, 32, 60)\n",
    "\n",
    "    # Define mu and sigma in samples\n",
    "    mu = np.searchsorted(epochs.times, mu)\n",
    "    sigma = sigma  * epochs.info['sfreq']\n",
    "    \n",
    "    # Formula for Gaussian curve\n",
    "    kernel = np.exp(-0.5 * ((np.arange(60) - mu) / sigma) ** 2)\n",
    "    \n",
    "    return (X * kernel).reshape(200, -1)\n",
    "    \n",
    "X_mod = modify_X(X)\n",
    "\n",
    "model = LinearRegression()\n",
    "FAS_pred = cross_val_predict(model, X_mod, y, cv=10)\n",
    "print('LR performance: %.2f (to beat: 0.30, 0.38)' % pearsonr(epochs.metadata['FAS'], FAS_pred)[0])\n",
    "\n",
    "model = Workbench(LinearRegression(), cov=ShrinkageKernel(alpha=0.97))\n",
    "FAS_pred = cross_val_predict(model, X_mod, y, cv=10)\n",
    "print('Shrinkage LR performance: %.2f (to beat: 0.30, 0.38)' % pearsonr(epochs.metadata['FAS'], FAS_pred)[0])"
   ]
  }
 ],
 "metadata": {
  "celltoolbar": "Slideshow",
  "kernelspec": {
   "display_name": "Python 3",
   "language": "python",
   "name": "python3"
  },
  "language_info": {
   "codemirror_mode": {
    "name": "ipython",
    "version": 3
   },
   "file_extension": ".py",
   "mimetype": "text/x-python",
   "name": "python",
   "nbconvert_exporter": "python",
   "pygments_lexer": "ipython3",
   "version": "3.6.10"
  }
 },
 "nbformat": 4,
 "nbformat_minor": 2
}
